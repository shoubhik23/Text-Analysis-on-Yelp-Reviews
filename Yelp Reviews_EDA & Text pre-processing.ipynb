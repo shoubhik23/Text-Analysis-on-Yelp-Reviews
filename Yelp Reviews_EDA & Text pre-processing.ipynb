{
 "cells": [
  {
   "cell_type": "code",
   "execution_count": 1,
   "metadata": {},
   "outputs": [],
   "source": [
    "import numpy as np\n",
    "import pandas as pd\n",
    "import spacy\n",
    "import matplotlib.pyplot as plt\n",
    "import seaborn as sns\n",
    "import nltk\n",
    "import gensim\n",
    "import re\n",
    "from wordcloud import WordCloud, STOPWORDS\n",
    "from datetime import datetime\n",
    "\n",
    "pd.set_option('max_colwidth', 800)"
   ]
  },
  {
   "cell_type": "code",
   "execution_count": 2,
   "metadata": {},
   "outputs": [],
   "source": [
    "from nltk.corpus import PlaintextCorpusReader\n",
    "from nltk.stem import SnowballStemmer\n",
    "from nltk.corpus import stopwords \n",
    "from nltk.tokenize import word_tokenize\n",
    "from langdetect import detect\n",
    "stop_words = stopwords.words('english')"
   ]
  },
  {
   "cell_type": "code",
   "execution_count": 3,
   "metadata": {},
   "outputs": [],
   "source": [
    "rev = pd.read_csv(\"yelp_reviews_Restaurant_AZ.csv\")"
   ]
  },
  {
   "cell_type": "code",
   "execution_count": 4,
   "metadata": {},
   "outputs": [
    {
     "data": {
      "text/html": [
       "<div>\n",
       "<style scoped>\n",
       "    .dataframe tbody tr th:only-of-type {\n",
       "        vertical-align: middle;\n",
       "    }\n",
       "\n",
       "    .dataframe tbody tr th {\n",
       "        vertical-align: top;\n",
       "    }\n",
       "\n",
       "    .dataframe thead th {\n",
       "        text-align: right;\n",
       "    }\n",
       "</style>\n",
       "<table border=\"1\" class=\"dataframe\">\n",
       "  <thead>\n",
       "    <tr style=\"text-align: right;\">\n",
       "      <th></th>\n",
       "      <th>business_id</th>\n",
       "      <th>name</th>\n",
       "      <th>address</th>\n",
       "      <th>city</th>\n",
       "      <th>state</th>\n",
       "      <th>postal_code</th>\n",
       "      <th>latitude</th>\n",
       "      <th>longitude</th>\n",
       "      <th>stars</th>\n",
       "      <th>review_count</th>\n",
       "      <th>is_open</th>\n",
       "      <th>attributes</th>\n",
       "      <th>categories</th>\n",
       "      <th>hours</th>\n",
       "      <th>user_id</th>\n",
       "      <th>review_stars</th>\n",
       "      <th>text</th>\n",
       "      <th>date</th>\n",
       "      <th>AZ_state</th>\n",
       "    </tr>\n",
       "  </thead>\n",
       "  <tbody>\n",
       "    <tr>\n",
       "      <th>0</th>\n",
       "      <td>vjTVxnsQEZ34XjYNS-XUpA</td>\n",
       "      <td>Wetzel's Pretzels</td>\n",
       "      <td>4550 East Cactus Rd, #KSFC-4</td>\n",
       "      <td>Phoenix</td>\n",
       "      <td>AZ</td>\n",
       "      <td>85032.0</td>\n",
       "      <td>33.602822</td>\n",
       "      <td>-111.983533</td>\n",
       "      <td>4.0</td>\n",
       "      <td>10</td>\n",
       "      <td>1</td>\n",
       "      <td>{'GoodForKids': 'True', 'RestaurantsTakeOut': 'True', 'RestaurantsPriceRange2': '1', 'BusinessAcceptsCreditCards': 'True', 'OutdoorSeating': 'False', 'BikeParking': 'True', 'RestaurantsAttire': \"u'casual'\", 'RestaurantsReservations': 'False', 'Ambience': \"{'romantic': False, 'intimate': False, 'touristy': False, 'hipster': False, 'divey': False, 'classy': False, 'trendy': False, 'upscale': False, 'casual': False}\", 'RestaurantsGoodForGroups': 'True', 'Alcohol': \"u'none'\", 'RestaurantsDelivery': 'False', 'HasTV': 'False', 'BusinessParking': \"{'garage': False, 'street': False, 'validated': False, 'lot': True, 'valet': False}\"}</td>\n",
       "      <td>Food, Pretzels, Bakeries, Fast Food, Restaurants</td>\n",
       "      <td>{'Monday': '10:0-21:0', 'Tuesday': '10:0-21:0', 'Wednesday': '10:0-21:0', 'Thursday': '10:0-21:0', 'Friday': '10:0-21:0', 'Saturday': '10:0-21:0', 'Sunday': '11:0-18:0'}</td>\n",
       "      <td>7C4B2Skmh4X9f8xJDo9O4w</td>\n",
       "      <td>5</td>\n",
       "      <td>Love Wetzel's pretzels! I always get them when I'm at the mall! \\n\\nIf you download their app you get rewards for a free pretzel. \\n\\nI love the Wetzel's bites either salty or cinnamon. The Wetzel's dog bites are okay, they taste like hot dogs.</td>\n",
       "      <td>2018-07-08 08:44:17</td>\n",
       "      <td>True</td>\n",
       "    </tr>\n",
       "    <tr>\n",
       "      <th>1</th>\n",
       "      <td>xFc50drSPxXkcLvX5ygqrg</td>\n",
       "      <td>Boomer's Sweet Home Chicago</td>\n",
       "      <td>5932 W Bell Rd, Ste D-109</td>\n",
       "      <td>Glendale</td>\n",
       "      <td>AZ</td>\n",
       "      <td>85308.0</td>\n",
       "      <td>33.640391</td>\n",
       "      <td>-112.187028</td>\n",
       "      <td>3.5</td>\n",
       "      <td>12</td>\n",
       "      <td>0</td>\n",
       "      <td>{'BusinessAcceptsCreditCards': 'True', 'BusinessParking': \"{'garage': False, 'street': False, 'validated': False, 'lot': True, 'valet': False}\", 'GoodForKids': 'True', 'RestaurantsGoodForGroups': 'True', 'RestaurantsReservations': 'False', 'RestaurantsTakeOut': 'True', 'RestaurantsAttire': \"'casual'\", 'RestaurantsPriceRange2': '1', 'Alcohol': \"u'none'\", 'OutdoorSeating': 'False'}</td>\n",
       "      <td>Burgers, Fast Food, American (New), Restaurants, Hot Dogs</td>\n",
       "      <td>NaN</td>\n",
       "      <td>-MpNNYmecoWws3Jp0Tn-aA</td>\n",
       "      <td>5</td>\n",
       "      <td>We just recently discovered this place and I just wish we have discovered it sooner!\\n\\nThe hot dogs are to die for! They are perfectly snappy with all the traditional Chicago fixin's on poppy seed bun. Yum!\\n\\nI love the fries which are served in generous sized portions and always come out so hot, fresh, and crisp! \\n\\nThe Italian Beef is a heck of a sandwich with tender meat, lots of peppers, delicious bread, and au jus!\\n\\nMy girls and I are huge fans of their sliders. Not quite up to the standard of my absolute favorite White Castles but still very tasty!</td>\n",
       "      <td>2011-01-09 22:55:07</td>\n",
       "      <td>True</td>\n",
       "    </tr>\n",
       "    <tr>\n",
       "      <th>2</th>\n",
       "      <td>xFc50drSPxXkcLvX5ygqrg</td>\n",
       "      <td>Boomer's Sweet Home Chicago</td>\n",
       "      <td>5932 W Bell Rd, Ste D-109</td>\n",
       "      <td>Glendale</td>\n",
       "      <td>AZ</td>\n",
       "      <td>85308.0</td>\n",
       "      <td>33.640391</td>\n",
       "      <td>-112.187028</td>\n",
       "      <td>3.5</td>\n",
       "      <td>12</td>\n",
       "      <td>0</td>\n",
       "      <td>{'BusinessAcceptsCreditCards': 'True', 'BusinessParking': \"{'garage': False, 'street': False, 'validated': False, 'lot': True, 'valet': False}\", 'GoodForKids': 'True', 'RestaurantsGoodForGroups': 'True', 'RestaurantsReservations': 'False', 'RestaurantsTakeOut': 'True', 'RestaurantsAttire': \"'casual'\", 'RestaurantsPriceRange2': '1', 'Alcohol': \"u'none'\", 'OutdoorSeating': 'False'}</td>\n",
       "      <td>Burgers, Fast Food, American (New), Restaurants, Hot Dogs</td>\n",
       "      <td>NaN</td>\n",
       "      <td>ivTMEVdpZOeFOLtBY_cH9g</td>\n",
       "      <td>5</td>\n",
       "      <td>I can't believe I never knew about a place that is a mere five minutes away from me, in a complex that I shop at frequently, until earlier today.  I found all the reviews from here very tempting, and so too were the prices.  \\n\\nI ordered a Chicago dog and two cheese sliders, both with everything on them.  The dog was THE BEST Chicago dog I've had in Arizona, and I've lived here for 22 years.  However, the hot dog was not the pinnacle of my meal.  The cheese sliders were A-MAZING.  The best I've ever had...anywhere.  They were slightly bigger than I expected, but I wished I had ordered more when I was done with them.\\n\\nI took advantage of their take-out, since I dined alone, but the actual dining area is a lot bigger than one would think by looking at it from the outside.  Lot's of Ch...</td>\n",
       "      <td>2009-08-08 03:41:30</td>\n",
       "      <td>True</td>\n",
       "    </tr>\n",
       "    <tr>\n",
       "      <th>3</th>\n",
       "      <td>xFc50drSPxXkcLvX5ygqrg</td>\n",
       "      <td>Boomer's Sweet Home Chicago</td>\n",
       "      <td>5932 W Bell Rd, Ste D-109</td>\n",
       "      <td>Glendale</td>\n",
       "      <td>AZ</td>\n",
       "      <td>85308.0</td>\n",
       "      <td>33.640391</td>\n",
       "      <td>-112.187028</td>\n",
       "      <td>3.5</td>\n",
       "      <td>12</td>\n",
       "      <td>0</td>\n",
       "      <td>{'BusinessAcceptsCreditCards': 'True', 'BusinessParking': \"{'garage': False, 'street': False, 'validated': False, 'lot': True, 'valet': False}\", 'GoodForKids': 'True', 'RestaurantsGoodForGroups': 'True', 'RestaurantsReservations': 'False', 'RestaurantsTakeOut': 'True', 'RestaurantsAttire': \"'casual'\", 'RestaurantsPriceRange2': '1', 'Alcohol': \"u'none'\", 'OutdoorSeating': 'False'}</td>\n",
       "      <td>Burgers, Fast Food, American (New), Restaurants, Hot Dogs</td>\n",
       "      <td>NaN</td>\n",
       "      <td>moUlm0IQB-bgK9BiELdnUQ</td>\n",
       "      <td>3</td>\n",
       "      <td>The one thing keeping this place from getting 5 stars?  Steam the facking buns for chrissakes.  If the slider meat would have been cooked fresh and buns steamed would have been a great meal.  But a cold slider bun sucks ass...</td>\n",
       "      <td>2009-06-07 21:53:44</td>\n",
       "      <td>True</td>\n",
       "    </tr>\n",
       "    <tr>\n",
       "      <th>4</th>\n",
       "      <td>Sd75ucXKoZUM2BEfBHFUOg</td>\n",
       "      <td>China Gourmet</td>\n",
       "      <td>3460 E Southern Ave, Ste 109</td>\n",
       "      <td>Mesa</td>\n",
       "      <td>AZ</td>\n",
       "      <td>85204.0</td>\n",
       "      <td>33.394863</td>\n",
       "      <td>-111.756036</td>\n",
       "      <td>3.0</td>\n",
       "      <td>13</td>\n",
       "      <td>0</td>\n",
       "      <td>{'RestaurantsPriceRange2': '1', 'RestaurantsAttire': \"'casual'\", 'OutdoorSeating': 'False', 'GoodForKids': 'True', 'NoiseLevel': \"u'quiet'\", 'RestaurantsGoodForGroups': 'True', 'BusinessParking': \"{'garage': False, 'street': False, 'validated': False, 'lot': False, 'valet': False}\", 'RestaurantsDelivery': 'True', 'WiFi': \"'no'\", 'RestaurantsTakeOut': 'True', 'RestaurantsReservations': 'False', 'BusinessAcceptsCreditCards': 'True', 'BikeParking': 'False'}</td>\n",
       "      <td>Chinese, Restaurants</td>\n",
       "      <td>NaN</td>\n",
       "      <td>NChoafiEzwQ7YmH4_zkRXQ</td>\n",
       "      <td>4</td>\n",
       "      <td>We've tried a few different Chinese delivery places. I'll admit I'm not a huge fan of Chinese food. But this place had some good food. I like the shrimp lo mein and kung pow shrimp. The shrimp was juicy, unlike some other places we tried. It is also a good price with huge portions! \\nDon't order the poo poo platter though, none of the items in it were good.</td>\n",
       "      <td>2014-12-19 04:59:07</td>\n",
       "      <td>True</td>\n",
       "    </tr>\n",
       "  </tbody>\n",
       "</table>\n",
       "</div>"
      ],
      "text/plain": [
       "              business_id                         name  \\\n",
       "0  vjTVxnsQEZ34XjYNS-XUpA            Wetzel's Pretzels   \n",
       "1  xFc50drSPxXkcLvX5ygqrg  Boomer's Sweet Home Chicago   \n",
       "2  xFc50drSPxXkcLvX5ygqrg  Boomer's Sweet Home Chicago   \n",
       "3  xFc50drSPxXkcLvX5ygqrg  Boomer's Sweet Home Chicago   \n",
       "4  Sd75ucXKoZUM2BEfBHFUOg                China Gourmet   \n",
       "\n",
       "                        address      city state  postal_code   latitude  \\\n",
       "0  4550 East Cactus Rd, #KSFC-4   Phoenix    AZ      85032.0  33.602822   \n",
       "1     5932 W Bell Rd, Ste D-109  Glendale    AZ      85308.0  33.640391   \n",
       "2     5932 W Bell Rd, Ste D-109  Glendale    AZ      85308.0  33.640391   \n",
       "3     5932 W Bell Rd, Ste D-109  Glendale    AZ      85308.0  33.640391   \n",
       "4  3460 E Southern Ave, Ste 109      Mesa    AZ      85204.0  33.394863   \n",
       "\n",
       "    longitude  stars  review_count  is_open  \\\n",
       "0 -111.983533    4.0            10        1   \n",
       "1 -112.187028    3.5            12        0   \n",
       "2 -112.187028    3.5            12        0   \n",
       "3 -112.187028    3.5            12        0   \n",
       "4 -111.756036    3.0            13        0   \n",
       "\n",
       "                                                                                                                                                                                                                                                                                                                                                                                                                                                                                                                                                                                                                                                 attributes  \\\n",
       "0  {'GoodForKids': 'True', 'RestaurantsTakeOut': 'True', 'RestaurantsPriceRange2': '1', 'BusinessAcceptsCreditCards': 'True', 'OutdoorSeating': 'False', 'BikeParking': 'True', 'RestaurantsAttire': \"u'casual'\", 'RestaurantsReservations': 'False', 'Ambience': \"{'romantic': False, 'intimate': False, 'touristy': False, 'hipster': False, 'divey': False, 'classy': False, 'trendy': False, 'upscale': False, 'casual': False}\", 'RestaurantsGoodForGroups': 'True', 'Alcohol': \"u'none'\", 'RestaurantsDelivery': 'False', 'HasTV': 'False', 'BusinessParking': \"{'garage': False, 'street': False, 'validated': False, 'lot': True, 'valet': False}\"}   \n",
       "1                                                                                                                                                                                                                                                            {'BusinessAcceptsCreditCards': 'True', 'BusinessParking': \"{'garage': False, 'street': False, 'validated': False, 'lot': True, 'valet': False}\", 'GoodForKids': 'True', 'RestaurantsGoodForGroups': 'True', 'RestaurantsReservations': 'False', 'RestaurantsTakeOut': 'True', 'RestaurantsAttire': \"'casual'\", 'RestaurantsPriceRange2': '1', 'Alcohol': \"u'none'\", 'OutdoorSeating': 'False'}   \n",
       "2                                                                                                                                                                                                                                                            {'BusinessAcceptsCreditCards': 'True', 'BusinessParking': \"{'garage': False, 'street': False, 'validated': False, 'lot': True, 'valet': False}\", 'GoodForKids': 'True', 'RestaurantsGoodForGroups': 'True', 'RestaurantsReservations': 'False', 'RestaurantsTakeOut': 'True', 'RestaurantsAttire': \"'casual'\", 'RestaurantsPriceRange2': '1', 'Alcohol': \"u'none'\", 'OutdoorSeating': 'False'}   \n",
       "3                                                                                                                                                                                                                                                            {'BusinessAcceptsCreditCards': 'True', 'BusinessParking': \"{'garage': False, 'street': False, 'validated': False, 'lot': True, 'valet': False}\", 'GoodForKids': 'True', 'RestaurantsGoodForGroups': 'True', 'RestaurantsReservations': 'False', 'RestaurantsTakeOut': 'True', 'RestaurantsAttire': \"'casual'\", 'RestaurantsPriceRange2': '1', 'Alcohol': \"u'none'\", 'OutdoorSeating': 'False'}   \n",
       "4                                                                                                                                                                                {'RestaurantsPriceRange2': '1', 'RestaurantsAttire': \"'casual'\", 'OutdoorSeating': 'False', 'GoodForKids': 'True', 'NoiseLevel': \"u'quiet'\", 'RestaurantsGoodForGroups': 'True', 'BusinessParking': \"{'garage': False, 'street': False, 'validated': False, 'lot': False, 'valet': False}\", 'RestaurantsDelivery': 'True', 'WiFi': \"'no'\", 'RestaurantsTakeOut': 'True', 'RestaurantsReservations': 'False', 'BusinessAcceptsCreditCards': 'True', 'BikeParking': 'False'}   \n",
       "\n",
       "                                                  categories  \\\n",
       "0           Food, Pretzels, Bakeries, Fast Food, Restaurants   \n",
       "1  Burgers, Fast Food, American (New), Restaurants, Hot Dogs   \n",
       "2  Burgers, Fast Food, American (New), Restaurants, Hot Dogs   \n",
       "3  Burgers, Fast Food, American (New), Restaurants, Hot Dogs   \n",
       "4                                       Chinese, Restaurants   \n",
       "\n",
       "                                                                                                                                                                       hours  \\\n",
       "0  {'Monday': '10:0-21:0', 'Tuesday': '10:0-21:0', 'Wednesday': '10:0-21:0', 'Thursday': '10:0-21:0', 'Friday': '10:0-21:0', 'Saturday': '10:0-21:0', 'Sunday': '11:0-18:0'}   \n",
       "1                                                                                                                                                                        NaN   \n",
       "2                                                                                                                                                                        NaN   \n",
       "3                                                                                                                                                                        NaN   \n",
       "4                                                                                                                                                                        NaN   \n",
       "\n",
       "                  user_id  review_stars  \\\n",
       "0  7C4B2Skmh4X9f8xJDo9O4w             5   \n",
       "1  -MpNNYmecoWws3Jp0Tn-aA             5   \n",
       "2  ivTMEVdpZOeFOLtBY_cH9g             5   \n",
       "3  moUlm0IQB-bgK9BiELdnUQ             3   \n",
       "4  NChoafiEzwQ7YmH4_zkRXQ             4   \n",
       "\n",
       "                                                                                                                                                                                                                                                                                                                                                                                                                                                                                                                                                                                                                                                                                                                                                                                                                              text  \\\n",
       "0                                                                                                                                                                                                                                                                                                                                                                                                                                                                                                                                                                             Love Wetzel's pretzels! I always get them when I'm at the mall! \\n\\nIf you download their app you get rewards for a free pretzel. \\n\\nI love the Wetzel's bites either salty or cinnamon. The Wetzel's dog bites are okay, they taste like hot dogs.   \n",
       "1                                                                                                                                                                                                                                            We just recently discovered this place and I just wish we have discovered it sooner!\\n\\nThe hot dogs are to die for! They are perfectly snappy with all the traditional Chicago fixin's on poppy seed bun. Yum!\\n\\nI love the fries which are served in generous sized portions and always come out so hot, fresh, and crisp! \\n\\nThe Italian Beef is a heck of a sandwich with tender meat, lots of peppers, delicious bread, and au jus!\\n\\nMy girls and I are huge fans of their sliders. Not quite up to the standard of my absolute favorite White Castles but still very tasty!   \n",
       "2  I can't believe I never knew about a place that is a mere five minutes away from me, in a complex that I shop at frequently, until earlier today.  I found all the reviews from here very tempting, and so too were the prices.  \\n\\nI ordered a Chicago dog and two cheese sliders, both with everything on them.  The dog was THE BEST Chicago dog I've had in Arizona, and I've lived here for 22 years.  However, the hot dog was not the pinnacle of my meal.  The cheese sliders were A-MAZING.  The best I've ever had...anywhere.  They were slightly bigger than I expected, but I wished I had ordered more when I was done with them.\\n\\nI took advantage of their take-out, since I dined alone, but the actual dining area is a lot bigger than one would think by looking at it from the outside.  Lot's of Ch...   \n",
       "3                                                                                                                                                                                                                                                                                                                                                                                                                                                                                                                                                                                               The one thing keeping this place from getting 5 stars?  Steam the facking buns for chrissakes.  If the slider meat would have been cooked fresh and buns steamed would have been a great meal.  But a cold slider bun sucks ass...   \n",
       "4                                                                                                                                                                                                                                                                                                                                                                                                                                                          We've tried a few different Chinese delivery places. I'll admit I'm not a huge fan of Chinese food. But this place had some good food. I like the shrimp lo mein and kung pow shrimp. The shrimp was juicy, unlike some other places we tried. It is also a good price with huge portions! \\nDon't order the poo poo platter though, none of the items in it were good.   \n",
       "\n",
       "                  date  AZ_state  \n",
       "0  2018-07-08 08:44:17      True  \n",
       "1  2011-01-09 22:55:07      True  \n",
       "2  2009-08-08 03:41:30      True  \n",
       "3  2009-06-07 21:53:44      True  \n",
       "4  2014-12-19 04:59:07      True  "
      ]
     },
     "execution_count": 4,
     "metadata": {},
     "output_type": "execute_result"
    }
   ],
   "source": [
    "rev.head()"
   ]
  },
  {
   "cell_type": "code",
   "execution_count": 5,
   "metadata": {},
   "outputs": [
    {
     "data": {
      "text/plain": [
       "(1442738, 19)"
      ]
     },
     "execution_count": 5,
     "metadata": {},
     "output_type": "execute_result"
    }
   ],
   "source": [
    "rev.shape"
   ]
  },
  {
   "cell_type": "code",
   "execution_count": 6,
   "metadata": {},
   "outputs": [
    {
     "name": "stdout",
     "output_type": "stream",
     "text": [
      "<class 'pandas.core.frame.DataFrame'>\n",
      "RangeIndex: 1442738 entries, 0 to 1442737\n",
      "Data columns (total 19 columns):\n",
      " #   Column        Non-Null Count    Dtype  \n",
      "---  ------        --------------    -----  \n",
      " 0   business_id   1442738 non-null  object \n",
      " 1   name          1442738 non-null  object \n",
      " 2   address       1439184 non-null  object \n",
      " 3   city          1442738 non-null  object \n",
      " 4   state         1442738 non-null  object \n",
      " 5   postal_code   1442513 non-null  float64\n",
      " 6   latitude      1442738 non-null  float64\n",
      " 7   longitude     1442738 non-null  float64\n",
      " 8   stars         1442738 non-null  float64\n",
      " 9   review_count  1442738 non-null  int64  \n",
      " 10  is_open       1442738 non-null  int64  \n",
      " 11  attributes    1441993 non-null  object \n",
      " 12  categories    1442738 non-null  object \n",
      " 13  hours         1387001 non-null  object \n",
      " 14  user_id       1442738 non-null  object \n",
      " 15  review_stars  1442738 non-null  int64  \n",
      " 16  text          1442738 non-null  object \n",
      " 17  date          1442738 non-null  object \n",
      " 18  AZ_state      1442738 non-null  bool   \n",
      "dtypes: bool(1), float64(4), int64(3), object(11)\n",
      "memory usage: 199.5+ MB\n"
     ]
    }
   ],
   "source": [
    "rev.info()"
   ]
  },
  {
   "cell_type": "code",
   "execution_count": 7,
   "metadata": {},
   "outputs": [
    {
     "data": {
      "text/plain": [
       "business_id         0\n",
       "name                0\n",
       "address          3554\n",
       "city                0\n",
       "state               0\n",
       "postal_code       225\n",
       "latitude            0\n",
       "longitude           0\n",
       "stars               0\n",
       "review_count        0\n",
       "is_open             0\n",
       "attributes        745\n",
       "categories          0\n",
       "hours           55737\n",
       "user_id             0\n",
       "review_stars        0\n",
       "text                0\n",
       "date                0\n",
       "AZ_state            0\n",
       "dtype: int64"
      ]
     },
     "execution_count": 7,
     "metadata": {},
     "output_type": "execute_result"
    }
   ],
   "source": [
    "rev.isnull().sum()"
   ]
  },
  {
   "cell_type": "code",
   "execution_count": 8,
   "metadata": {},
   "outputs": [],
   "source": [
    "# Dropping irrelevant columns from dataframe"
   ]
  },
  {
   "cell_type": "code",
   "execution_count": 9,
   "metadata": {},
   "outputs": [],
   "source": [
    "rev.drop(['business_id','address','postal_code','state',\n",
    "          'hours','user_id','AZ_state','latitude','longitude'],axis=1,inplace=True)"
   ]
  },
  {
   "cell_type": "code",
   "execution_count": 10,
   "metadata": {},
   "outputs": [
    {
     "data": {
      "text/plain": [
       "name              0\n",
       "city              0\n",
       "stars             0\n",
       "review_count      0\n",
       "is_open           0\n",
       "attributes      745\n",
       "categories        0\n",
       "review_stars      0\n",
       "text              0\n",
       "date              0\n",
       "dtype: int64"
      ]
     },
     "execution_count": 10,
     "metadata": {},
     "output_type": "execute_result"
    }
   ],
   "source": [
    "rev.isnull().sum()"
   ]
  },
  {
   "cell_type": "code",
   "execution_count": 11,
   "metadata": {},
   "outputs": [
    {
     "data": {
      "text/plain": [
       "array([5, 3, 4, 1, 2], dtype=int64)"
      ]
     },
     "execution_count": 11,
     "metadata": {},
     "output_type": "execute_result"
    }
   ],
   "source": [
    "rev.review_stars.unique()"
   ]
  },
  {
   "cell_type": "code",
   "execution_count": 12,
   "metadata": {},
   "outputs": [
    {
     "data": {
      "text/plain": [
       "array([4. , 3.5, 3. , 2.5, 2. , 4.5, 1.5, 5. , 1. ])"
      ]
     },
     "execution_count": 12,
     "metadata": {},
     "output_type": "execute_result"
    }
   ],
   "source": [
    "rev.stars.unique()"
   ]
  },
  {
   "cell_type": "code",
   "execution_count": 13,
   "metadata": {},
   "outputs": [
    {
     "data": {
      "text/plain": [
       "<matplotlib.axes._subplots.AxesSubplot at 0x18e27ba4708>"
      ]
     },
     "execution_count": 13,
     "metadata": {},
     "output_type": "execute_result"
    },
    {
     "data": {
      "image/png": "[encoded data removed]",
      "text/plain": [
       "<Figure size 432x288 with 1 Axes>"
      ]
     },
     "metadata": {
      "needs_background": "light"
     },
     "output_type": "display_data"
    }
   ],
   "source": [
    "sns.countplot(rev.is_open)"
   ]
  },
  {
   "cell_type": "code",
   "execution_count": 14,
   "metadata": {},
   "outputs": [
    {
     "data": {
      "image/png": "[encoded data removed]",
      "text/plain": [
       "<Figure size 864x432 with 1 Axes>"
      ]
     },
     "metadata": {
      "needs_background": "light"
     },
     "output_type": "display_data"
    }
   ],
   "source": [
    "plt.figure(figsize=(12,6))\n",
    "S1 = sns.countplot(rev.stars)\n",
    "\n",
    "for p in S1.patches:\n",
    "    S1.annotate(format(p.get_height(), '.2f'), (p.get_x() + p.get_width() / 2., p.get_height()),\n",
    "                ha = 'center', va = 'center', xytext = (0, 10), textcoords = 'offset points')"
   ]
  },
  {
   "cell_type": "code",
   "execution_count": 15,
   "metadata": {},
   "outputs": [
    {
     "data": {
      "image/png": "[encoded data removed]",
      "text/plain": [
       "<Figure size 864x432 with 1 Axes>"
      ]
     },
     "metadata": {
      "needs_background": "light"
     },
     "output_type": "display_data"
    }
   ],
   "source": [
    "plt.figure(figsize=(12,6))\n",
    "S1 = sns.countplot(rev.review_stars)\n",
    "\n",
    "for p in S1.patches:\n",
    "    S1.annotate(format(p.get_height(), '.2f'), (p.get_x() + p.get_width() / 2., p.get_height()),\n",
    "                ha = 'center', va = 'center', xytext = (0, 10), textcoords = 'offset points')"
   ]
  },
  {
   "cell_type": "code",
   "execution_count": 16,
   "metadata": {},
   "outputs": [
    {
     "data": {
      "image/png": "[encoded data removed]",
      "text/plain": [
       "<Figure size 1080x432 with 1 Axes>"
      ]
     },
     "metadata": {
      "needs_background": "light"
     },
     "output_type": "display_data"
    }
   ],
   "source": [
    "revcity  = rev[\"city\"].value_counts()\n",
    "revcity = revcity[:10,]\n",
    "plt.figure(figsize=(15,6))\n",
    "graph = sns.barplot(revcity.index, revcity.values, alpha=0.8)\n",
    "plt.title('Top 10 Cities in Arizona')\n",
    "plt.ylabel('Number of Reviews', fontsize=12)\n",
    "plt.xlabel('Cities', fontsize=12)\n",
    "\n",
    "for p in graph.patches:\n",
    "    height = p.get_height()\n",
    "    graph.text(p.get_x()+p.get_width()/2., height + 0.1,height ,ha=\"center\")\n",
    "    \n",
    "plt.show()"
   ]
  },
  {
   "cell_type": "code",
   "execution_count": 17,
   "metadata": {},
   "outputs": [
    {
     "data": {
      "image/png": "[encoded data removed]",
      "text/plain": [
       "<Figure size 1296x576 with 1 Axes>"
      ]
     },
     "metadata": {
      "needs_background": "light"
     },
     "output_type": "display_data"
    }
   ],
   "source": [
    "revname  = rev[\"name\"].value_counts()\n",
    "revname = revname[:10,]\n",
    "plt.figure(figsize=(18,8))\n",
    "graph = sns.barplot(revname.index, revname.values, alpha=0.8,palette=\"GnBu_d\")\n",
    "plt.title('Top 10 Businesses in Arizona')\n",
    "plt.ylabel('Number of Reviews', fontsize=12)\n",
    "plt.xlabel('Business Names', fontsize=12)\n",
    "\n",
    "for p in graph.patches:\n",
    "    height = p.get_height()\n",
    "    graph.text(p.get_x()+p.get_width()/2., height + 0.1,height ,ha=\"center\")\n",
    "    \n",
    "plt.show()"
   ]
  },
  {
   "cell_type": "code",
   "execution_count": 18,
   "metadata": {},
   "outputs": [],
   "source": [
    "rev['date'] = pd.to_datetime(rev['date'])\n",
    "rev['date_new'] = rev['date'].dt.date\n",
    "rev['year'] = rev['date'].dt.year\n",
    "rev['day'] = rev['date'].dt.day\n",
    "rev['Weekday'] = rev['date'].apply(lambda time: time.dayofweek)\n",
    "rev['hour'] = rev['date'].dt.strftime(\"%H\")"
   ]
  },
  {
   "cell_type": "code",
   "execution_count": 19,
   "metadata": {},
   "outputs": [],
   "source": [
    "rev.drop(['date'],axis=1,inplace=True)"
   ]
  },
  {
   "cell_type": "code",
   "execution_count": 20,
   "metadata": {},
   "outputs": [
    {
     "data": {
      "text/html": [
       "<div>\n",
       "<style scoped>\n",
       "    .dataframe tbody tr th:only-of-type {\n",
       "        vertical-align: middle;\n",
       "    }\n",
       "\n",
       "    .dataframe tbody tr th {\n",
       "        vertical-align: top;\n",
       "    }\n",
       "\n",
       "    .dataframe thead th {\n",
       "        text-align: right;\n",
       "    }\n",
       "</style>\n",
       "<table border=\"1\" class=\"dataframe\">\n",
       "  <thead>\n",
       "    <tr style=\"text-align: right;\">\n",
       "      <th></th>\n",
       "      <th>name</th>\n",
       "      <th>city</th>\n",
       "      <th>stars</th>\n",
       "      <th>review_count</th>\n",
       "      <th>is_open</th>\n",
       "      <th>attributes</th>\n",
       "      <th>categories</th>\n",
       "      <th>review_stars</th>\n",
       "      <th>text</th>\n",
       "      <th>date_new</th>\n",
       "      <th>year</th>\n",
       "      <th>day</th>\n",
       "      <th>Weekday</th>\n",
       "      <th>hour</th>\n",
       "    </tr>\n",
       "  </thead>\n",
       "  <tbody>\n",
       "    <tr>\n",
       "      <th>0</th>\n",
       "      <td>Wetzel's Pretzels</td>\n",
       "      <td>Phoenix</td>\n",
       "      <td>4.0</td>\n",
       "      <td>10</td>\n",
       "      <td>1</td>\n",
       "      <td>{'GoodForKids': 'True', 'RestaurantsTakeOut': 'True', 'RestaurantsPriceRange2': '1', 'BusinessAcceptsCreditCards': 'True', 'OutdoorSeating': 'False', 'BikeParking': 'True', 'RestaurantsAttire': \"u'casual'\", 'RestaurantsReservations': 'False', 'Ambience': \"{'romantic': False, 'intimate': False, 'touristy': False, 'hipster': False, 'divey': False, 'classy': False, 'trendy': False, 'upscale': False, 'casual': False}\", 'RestaurantsGoodForGroups': 'True', 'Alcohol': \"u'none'\", 'RestaurantsDelivery': 'False', 'HasTV': 'False', 'BusinessParking': \"{'garage': False, 'street': False, 'validated': False, 'lot': True, 'valet': False}\"}</td>\n",
       "      <td>Food, Pretzels, Bakeries, Fast Food, Restaurants</td>\n",
       "      <td>5</td>\n",
       "      <td>Love Wetzel's pretzels! I always get them when I'm at the mall! \\n\\nIf you download their app you get rewards for a free pretzel. \\n\\nI love the Wetzel's bites either salty or cinnamon. The Wetzel's dog bites are okay, they taste like hot dogs.</td>\n",
       "      <td>2018-07-08</td>\n",
       "      <td>2018</td>\n",
       "      <td>8</td>\n",
       "      <td>6</td>\n",
       "      <td>08</td>\n",
       "    </tr>\n",
       "    <tr>\n",
       "      <th>1</th>\n",
       "      <td>Boomer's Sweet Home Chicago</td>\n",
       "      <td>Glendale</td>\n",
       "      <td>3.5</td>\n",
       "      <td>12</td>\n",
       "      <td>0</td>\n",
       "      <td>{'BusinessAcceptsCreditCards': 'True', 'BusinessParking': \"{'garage': False, 'street': False, 'validated': False, 'lot': True, 'valet': False}\", 'GoodForKids': 'True', 'RestaurantsGoodForGroups': 'True', 'RestaurantsReservations': 'False', 'RestaurantsTakeOut': 'True', 'RestaurantsAttire': \"'casual'\", 'RestaurantsPriceRange2': '1', 'Alcohol': \"u'none'\", 'OutdoorSeating': 'False'}</td>\n",
       "      <td>Burgers, Fast Food, American (New), Restaurants, Hot Dogs</td>\n",
       "      <td>5</td>\n",
       "      <td>We just recently discovered this place and I just wish we have discovered it sooner!\\n\\nThe hot dogs are to die for! They are perfectly snappy with all the traditional Chicago fixin's on poppy seed bun. Yum!\\n\\nI love the fries which are served in generous sized portions and always come out so hot, fresh, and crisp! \\n\\nThe Italian Beef is a heck of a sandwich with tender meat, lots of peppers, delicious bread, and au jus!\\n\\nMy girls and I are huge fans of their sliders. Not quite up to the standard of my absolute favorite White Castles but still very tasty!</td>\n",
       "      <td>2011-01-09</td>\n",
       "      <td>2011</td>\n",
       "      <td>9</td>\n",
       "      <td>6</td>\n",
       "      <td>22</td>\n",
       "    </tr>\n",
       "  </tbody>\n",
       "</table>\n",
       "</div>"
      ],
      "text/plain": [
       "                          name      city  stars  review_count  is_open  \\\n",
       "0            Wetzel's Pretzels   Phoenix    4.0            10        1   \n",
       "1  Boomer's Sweet Home Chicago  Glendale    3.5            12        0   \n",
       "\n",
       "                                                                                                                                                                                                                                                                                                                                                                                                                                                                                                                                                                                                                                                 attributes  \\\n",
       "0  {'GoodForKids': 'True', 'RestaurantsTakeOut': 'True', 'RestaurantsPriceRange2': '1', 'BusinessAcceptsCreditCards': 'True', 'OutdoorSeating': 'False', 'BikeParking': 'True', 'RestaurantsAttire': \"u'casual'\", 'RestaurantsReservations': 'False', 'Ambience': \"{'romantic': False, 'intimate': False, 'touristy': False, 'hipster': False, 'divey': False, 'classy': False, 'trendy': False, 'upscale': False, 'casual': False}\", 'RestaurantsGoodForGroups': 'True', 'Alcohol': \"u'none'\", 'RestaurantsDelivery': 'False', 'HasTV': 'False', 'BusinessParking': \"{'garage': False, 'street': False, 'validated': False, 'lot': True, 'valet': False}\"}   \n",
       "1                                                                                                                                                                                                                                                            {'BusinessAcceptsCreditCards': 'True', 'BusinessParking': \"{'garage': False, 'street': False, 'validated': False, 'lot': True, 'valet': False}\", 'GoodForKids': 'True', 'RestaurantsGoodForGroups': 'True', 'RestaurantsReservations': 'False', 'RestaurantsTakeOut': 'True', 'RestaurantsAttire': \"'casual'\", 'RestaurantsPriceRange2': '1', 'Alcohol': \"u'none'\", 'OutdoorSeating': 'False'}   \n",
       "\n",
       "                                                  categories  review_stars  \\\n",
       "0           Food, Pretzels, Bakeries, Fast Food, Restaurants             5   \n",
       "1  Burgers, Fast Food, American (New), Restaurants, Hot Dogs             5   \n",
       "\n",
       "                                                                                                                                                                                                                                                                                                                                                                                                                                                                                                                                                                                    text  \\\n",
       "0                                                                                                                                                                                                                                                                                                                                   Love Wetzel's pretzels! I always get them when I'm at the mall! \\n\\nIf you download their app you get rewards for a free pretzel. \\n\\nI love the Wetzel's bites either salty or cinnamon. The Wetzel's dog bites are okay, they taste like hot dogs.   \n",
       "1  We just recently discovered this place and I just wish we have discovered it sooner!\\n\\nThe hot dogs are to die for! They are perfectly snappy with all the traditional Chicago fixin's on poppy seed bun. Yum!\\n\\nI love the fries which are served in generous sized portions and always come out so hot, fresh, and crisp! \\n\\nThe Italian Beef is a heck of a sandwich with tender meat, lots of peppers, delicious bread, and au jus!\\n\\nMy girls and I are huge fans of their sliders. Not quite up to the standard of my absolute favorite White Castles but still very tasty!   \n",
       "\n",
       "     date_new  year  day  Weekday hour  \n",
       "0  2018-07-08  2018    8        6   08  \n",
       "1  2011-01-09  2011    9        6   22  "
      ]
     },
     "execution_count": 20,
     "metadata": {},
     "output_type": "execute_result"
    }
   ],
   "source": [
    "rev.head(2)"
   ]
  },
  {
   "cell_type": "code",
   "execution_count": 21,
   "metadata": {},
   "outputs": [
    {
     "data": {
      "image/png": "[encoded data removed]",
      "text/plain": [
       "<Figure size 864x432 with 1 Axes>"
      ]
     },
     "metadata": {
      "needs_background": "light"
     },
     "output_type": "display_data"
    }
   ],
   "source": [
    "plt.figure(figsize=(12,6))\n",
    "S1 = sns.countplot(rev.Weekday)\n",
    "\n",
    "for p in S1.patches:\n",
    "    S1.annotate(format(p.get_height(), '.2f'), (p.get_x() + p.get_width() / 2., p.get_height()),\n",
    "                ha = 'center', va = 'center', xytext = (0, 10), textcoords = 'offset points')"
   ]
  },
  {
   "cell_type": "code",
   "execution_count": 22,
   "metadata": {},
   "outputs": [
    {
     "data": {
      "image/png": "[encoded data removed]",
      "text/plain": [
       "<Figure size 1296x432 with 1 Axes>"
      ]
     },
     "metadata": {
      "needs_background": "light"
     },
     "output_type": "display_data"
    }
   ],
   "source": [
    "plt.figure(figsize=(18,6))\n",
    "S1 = sns.countplot(rev.hour)\n",
    "\n",
    "for p in S1.patches:\n",
    "    S1.annotate(format(p.get_height(), '.2f'), (p.get_x() + p.get_width() / 2., p.get_height()),\n",
    "                ha = 'center', va = 'center', xytext = (0, 10), textcoords = 'offset points')"
   ]
  },
  {
   "cell_type": "code",
   "execution_count": 23,
   "metadata": {},
   "outputs": [],
   "source": [
    "# Change of rating of McDonalds over the years"
   ]
  },
  {
   "cell_type": "code",
   "execution_count": 24,
   "metadata": {},
   "outputs": [
    {
     "data": {
      "image/png": "[encoded data removed]",
      "text/plain": [
       "<Figure size 864x432 with 1 Axes>"
      ]
     },
     "metadata": {
      "needs_background": "light"
     },
     "output_type": "display_data"
    }
   ],
   "source": [
    "plt.figure(figsize=(12,6))\n",
    "S1 = sns.countplot(x='year',data=rev[rev['name']=='McDonalds'],hue='stars',palette='plasma')\n",
    "\n",
    "# To relocate the legend\n",
    "plt.legend(bbox_to_anchor=(1.05, 1), loc=2, borderaxespad=0.,prop=dict(size=15))\n",
    "for p in S1.patches:\n",
    "    S1.annotate(format(p.get_height(), '.2f'), (p.get_x() + p.get_width() / 2., p.get_height()),\n",
    "                ha = 'center', va = 'center', xytext = (0, 10), textcoords = 'offset points')"
   ]
  },
  {
   "cell_type": "code",
   "execution_count": 25,
   "metadata": {},
   "outputs": [
    {
     "data": {
      "text/html": [
       "<div>\n",
       "<style scoped>\n",
       "    .dataframe tbody tr th:only-of-type {\n",
       "        vertical-align: middle;\n",
       "    }\n",
       "\n",
       "    .dataframe tbody tr th {\n",
       "        vertical-align: top;\n",
       "    }\n",
       "\n",
       "    .dataframe thead th {\n",
       "        text-align: right;\n",
       "    }\n",
       "</style>\n",
       "<table border=\"1\" class=\"dataframe\">\n",
       "  <thead>\n",
       "    <tr style=\"text-align: right;\">\n",
       "      <th></th>\n",
       "      <th>name</th>\n",
       "      <th>city</th>\n",
       "      <th>stars</th>\n",
       "      <th>review_count</th>\n",
       "      <th>is_open</th>\n",
       "      <th>attributes</th>\n",
       "      <th>categories</th>\n",
       "      <th>review_stars</th>\n",
       "      <th>text</th>\n",
       "      <th>date_new</th>\n",
       "      <th>year</th>\n",
       "      <th>day</th>\n",
       "      <th>Weekday</th>\n",
       "      <th>hour</th>\n",
       "      <th>text_length</th>\n",
       "    </tr>\n",
       "  </thead>\n",
       "  <tbody>\n",
       "    <tr>\n",
       "      <th>0</th>\n",
       "      <td>Wetzel's Pretzels</td>\n",
       "      <td>Phoenix</td>\n",
       "      <td>4.0</td>\n",
       "      <td>10</td>\n",
       "      <td>1</td>\n",
       "      <td>{'GoodForKids': 'True', 'RestaurantsTakeOut': 'True', 'RestaurantsPriceRange2': '1', 'BusinessAcceptsCreditCards': 'True', 'OutdoorSeating': 'False', 'BikeParking': 'True', 'RestaurantsAttire': \"u'casual'\", 'RestaurantsReservations': 'False', 'Ambience': \"{'romantic': False, 'intimate': False, 'touristy': False, 'hipster': False, 'divey': False, 'classy': False, 'trendy': False, 'upscale': False, 'casual': False}\", 'RestaurantsGoodForGroups': 'True', 'Alcohol': \"u'none'\", 'RestaurantsDelivery': 'False', 'HasTV': 'False', 'BusinessParking': \"{'garage': False, 'street': False, 'validated': False, 'lot': True, 'valet': False}\"}</td>\n",
       "      <td>Food, Pretzels, Bakeries, Fast Food, Restaurants</td>\n",
       "      <td>5</td>\n",
       "      <td>Love Wetzel's pretzels! I always get them when I'm at the mall! \\n\\nIf you download their app you get rewards for a free pretzel. \\n\\nI love the Wetzel's bites either salty or cinnamon. The Wetzel's dog bites are okay, they taste like hot dogs.</td>\n",
       "      <td>2018-07-08</td>\n",
       "      <td>2018</td>\n",
       "      <td>8</td>\n",
       "      <td>6</td>\n",
       "      <td>08</td>\n",
       "      <td>240</td>\n",
       "    </tr>\n",
       "    <tr>\n",
       "      <th>1</th>\n",
       "      <td>Boomer's Sweet Home Chicago</td>\n",
       "      <td>Glendale</td>\n",
       "      <td>3.5</td>\n",
       "      <td>12</td>\n",
       "      <td>0</td>\n",
       "      <td>{'BusinessAcceptsCreditCards': 'True', 'BusinessParking': \"{'garage': False, 'street': False, 'validated': False, 'lot': True, 'valet': False}\", 'GoodForKids': 'True', 'RestaurantsGoodForGroups': 'True', 'RestaurantsReservations': 'False', 'RestaurantsTakeOut': 'True', 'RestaurantsAttire': \"'casual'\", 'RestaurantsPriceRange2': '1', 'Alcohol': \"u'none'\", 'OutdoorSeating': 'False'}</td>\n",
       "      <td>Burgers, Fast Food, American (New), Restaurants, Hot Dogs</td>\n",
       "      <td>5</td>\n",
       "      <td>We just recently discovered this place and I just wish we have discovered it sooner!\\n\\nThe hot dogs are to die for! They are perfectly snappy with all the traditional Chicago fixin's on poppy seed bun. Yum!\\n\\nI love the fries which are served in generous sized portions and always come out so hot, fresh, and crisp! \\n\\nThe Italian Beef is a heck of a sandwich with tender meat, lots of peppers, delicious bread, and au jus!\\n\\nMy girls and I are huge fans of their sliders. Not quite up to the standard of my absolute favorite White Castles but still very tasty!</td>\n",
       "      <td>2011-01-09</td>\n",
       "      <td>2011</td>\n",
       "      <td>9</td>\n",
       "      <td>6</td>\n",
       "      <td>22</td>\n",
       "      <td>557</td>\n",
       "    </tr>\n",
       "    <tr>\n",
       "      <th>2</th>\n",
       "      <td>Boomer's Sweet Home Chicago</td>\n",
       "      <td>Glendale</td>\n",
       "      <td>3.5</td>\n",
       "      <td>12</td>\n",
       "      <td>0</td>\n",
       "      <td>{'BusinessAcceptsCreditCards': 'True', 'BusinessParking': \"{'garage': False, 'street': False, 'validated': False, 'lot': True, 'valet': False}\", 'GoodForKids': 'True', 'RestaurantsGoodForGroups': 'True', 'RestaurantsReservations': 'False', 'RestaurantsTakeOut': 'True', 'RestaurantsAttire': \"'casual'\", 'RestaurantsPriceRange2': '1', 'Alcohol': \"u'none'\", 'OutdoorSeating': 'False'}</td>\n",
       "      <td>Burgers, Fast Food, American (New), Restaurants, Hot Dogs</td>\n",
       "      <td>5</td>\n",
       "      <td>I can't believe I never knew about a place that is a mere five minutes away from me, in a complex that I shop at frequently, until earlier today.  I found all the reviews from here very tempting, and so too were the prices.  \\n\\nI ordered a Chicago dog and two cheese sliders, both with everything on them.  The dog was THE BEST Chicago dog I've had in Arizona, and I've lived here for 22 years.  However, the hot dog was not the pinnacle of my meal.  The cheese sliders were A-MAZING.  The best I've ever had...anywhere.  They were slightly bigger than I expected, but I wished I had ordered more when I was done with them.\\n\\nI took advantage of their take-out, since I dined alone, but the actual dining area is a lot bigger than one would think by looking at it from the outside.  Lot's of Ch...</td>\n",
       "      <td>2009-08-08</td>\n",
       "      <td>2009</td>\n",
       "      <td>8</td>\n",
       "      <td>5</td>\n",
       "      <td>03</td>\n",
       "      <td>1104</td>\n",
       "    </tr>\n",
       "    <tr>\n",
       "      <th>3</th>\n",
       "      <td>Boomer's Sweet Home Chicago</td>\n",
       "      <td>Glendale</td>\n",
       "      <td>3.5</td>\n",
       "      <td>12</td>\n",
       "      <td>0</td>\n",
       "      <td>{'BusinessAcceptsCreditCards': 'True', 'BusinessParking': \"{'garage': False, 'street': False, 'validated': False, 'lot': True, 'valet': False}\", 'GoodForKids': 'True', 'RestaurantsGoodForGroups': 'True', 'RestaurantsReservations': 'False', 'RestaurantsTakeOut': 'True', 'RestaurantsAttire': \"'casual'\", 'RestaurantsPriceRange2': '1', 'Alcohol': \"u'none'\", 'OutdoorSeating': 'False'}</td>\n",
       "      <td>Burgers, Fast Food, American (New), Restaurants, Hot Dogs</td>\n",
       "      <td>3</td>\n",
       "      <td>The one thing keeping this place from getting 5 stars?  Steam the facking buns for chrissakes.  If the slider meat would have been cooked fresh and buns steamed would have been a great meal.  But a cold slider bun sucks ass...</td>\n",
       "      <td>2009-06-07</td>\n",
       "      <td>2009</td>\n",
       "      <td>7</td>\n",
       "      <td>6</td>\n",
       "      <td>21</td>\n",
       "      <td>226</td>\n",
       "    </tr>\n",
       "    <tr>\n",
       "      <th>4</th>\n",
       "      <td>China Gourmet</td>\n",
       "      <td>Mesa</td>\n",
       "      <td>3.0</td>\n",
       "      <td>13</td>\n",
       "      <td>0</td>\n",
       "      <td>{'RestaurantsPriceRange2': '1', 'RestaurantsAttire': \"'casual'\", 'OutdoorSeating': 'False', 'GoodForKids': 'True', 'NoiseLevel': \"u'quiet'\", 'RestaurantsGoodForGroups': 'True', 'BusinessParking': \"{'garage': False, 'street': False, 'validated': False, 'lot': False, 'valet': False}\", 'RestaurantsDelivery': 'True', 'WiFi': \"'no'\", 'RestaurantsTakeOut': 'True', 'RestaurantsReservations': 'False', 'BusinessAcceptsCreditCards': 'True', 'BikeParking': 'False'}</td>\n",
       "      <td>Chinese, Restaurants</td>\n",
       "      <td>4</td>\n",
       "      <td>We've tried a few different Chinese delivery places. I'll admit I'm not a huge fan of Chinese food. But this place had some good food. I like the shrimp lo mein and kung pow shrimp. The shrimp was juicy, unlike some other places we tried. It is also a good price with huge portions! \\nDon't order the poo poo platter though, none of the items in it were good.</td>\n",
       "      <td>2014-12-19</td>\n",
       "      <td>2014</td>\n",
       "      <td>19</td>\n",
       "      <td>4</td>\n",
       "      <td>04</td>\n",
       "      <td>358</td>\n",
       "    </tr>\n",
       "  </tbody>\n",
       "</table>\n",
       "</div>"
      ],
      "text/plain": [
       "                          name      city  stars  review_count  is_open  \\\n",
       "0            Wetzel's Pretzels   Phoenix    4.0            10        1   \n",
       "1  Boomer's Sweet Home Chicago  Glendale    3.5            12        0   \n",
       "2  Boomer's Sweet Home Chicago  Glendale    3.5            12        0   \n",
       "3  Boomer's Sweet Home Chicago  Glendale    3.5            12        0   \n",
       "4                China Gourmet      Mesa    3.0            13        0   \n",
       "\n",
       "                                                                                                                                                                                                                                                                                                                                                                                                                                                                                                                                                                                                                                                 attributes  \\\n",
       "0  {'GoodForKids': 'True', 'RestaurantsTakeOut': 'True', 'RestaurantsPriceRange2': '1', 'BusinessAcceptsCreditCards': 'True', 'OutdoorSeating': 'False', 'BikeParking': 'True', 'RestaurantsAttire': \"u'casual'\", 'RestaurantsReservations': 'False', 'Ambience': \"{'romantic': False, 'intimate': False, 'touristy': False, 'hipster': False, 'divey': False, 'classy': False, 'trendy': False, 'upscale': False, 'casual': False}\", 'RestaurantsGoodForGroups': 'True', 'Alcohol': \"u'none'\", 'RestaurantsDelivery': 'False', 'HasTV': 'False', 'BusinessParking': \"{'garage': False, 'street': False, 'validated': False, 'lot': True, 'valet': False}\"}   \n",
       "1                                                                                                                                                                                                                                                            {'BusinessAcceptsCreditCards': 'True', 'BusinessParking': \"{'garage': False, 'street': False, 'validated': False, 'lot': True, 'valet': False}\", 'GoodForKids': 'True', 'RestaurantsGoodForGroups': 'True', 'RestaurantsReservations': 'False', 'RestaurantsTakeOut': 'True', 'RestaurantsAttire': \"'casual'\", 'RestaurantsPriceRange2': '1', 'Alcohol': \"u'none'\", 'OutdoorSeating': 'False'}   \n",
       "2                                                                                                                                                                                                                                                            {'BusinessAcceptsCreditCards': 'True', 'BusinessParking': \"{'garage': False, 'street': False, 'validated': False, 'lot': True, 'valet': False}\", 'GoodForKids': 'True', 'RestaurantsGoodForGroups': 'True', 'RestaurantsReservations': 'False', 'RestaurantsTakeOut': 'True', 'RestaurantsAttire': \"'casual'\", 'RestaurantsPriceRange2': '1', 'Alcohol': \"u'none'\", 'OutdoorSeating': 'False'}   \n",
       "3                                                                                                                                                                                                                                                            {'BusinessAcceptsCreditCards': 'True', 'BusinessParking': \"{'garage': False, 'street': False, 'validated': False, 'lot': True, 'valet': False}\", 'GoodForKids': 'True', 'RestaurantsGoodForGroups': 'True', 'RestaurantsReservations': 'False', 'RestaurantsTakeOut': 'True', 'RestaurantsAttire': \"'casual'\", 'RestaurantsPriceRange2': '1', 'Alcohol': \"u'none'\", 'OutdoorSeating': 'False'}   \n",
       "4                                                                                                                                                                                {'RestaurantsPriceRange2': '1', 'RestaurantsAttire': \"'casual'\", 'OutdoorSeating': 'False', 'GoodForKids': 'True', 'NoiseLevel': \"u'quiet'\", 'RestaurantsGoodForGroups': 'True', 'BusinessParking': \"{'garage': False, 'street': False, 'validated': False, 'lot': False, 'valet': False}\", 'RestaurantsDelivery': 'True', 'WiFi': \"'no'\", 'RestaurantsTakeOut': 'True', 'RestaurantsReservations': 'False', 'BusinessAcceptsCreditCards': 'True', 'BikeParking': 'False'}   \n",
       "\n",
       "                                                  categories  review_stars  \\\n",
       "0           Food, Pretzels, Bakeries, Fast Food, Restaurants             5   \n",
       "1  Burgers, Fast Food, American (New), Restaurants, Hot Dogs             5   \n",
       "2  Burgers, Fast Food, American (New), Restaurants, Hot Dogs             5   \n",
       "3  Burgers, Fast Food, American (New), Restaurants, Hot Dogs             3   \n",
       "4                                       Chinese, Restaurants             4   \n",
       "\n",
       "                                                                                                                                                                                                                                                                                                                                                                                                                                                                                                                                                                                                                                                                                                                                                                                                                              text  \\\n",
       "0                                                                                                                                                                                                                                                                                                                                                                                                                                                                                                                                                                             Love Wetzel's pretzels! I always get them when I'm at the mall! \\n\\nIf you download their app you get rewards for a free pretzel. \\n\\nI love the Wetzel's bites either salty or cinnamon. The Wetzel's dog bites are okay, they taste like hot dogs.   \n",
       "1                                                                                                                                                                                                                                            We just recently discovered this place and I just wish we have discovered it sooner!\\n\\nThe hot dogs are to die for! They are perfectly snappy with all the traditional Chicago fixin's on poppy seed bun. Yum!\\n\\nI love the fries which are served in generous sized portions and always come out so hot, fresh, and crisp! \\n\\nThe Italian Beef is a heck of a sandwich with tender meat, lots of peppers, delicious bread, and au jus!\\n\\nMy girls and I are huge fans of their sliders. Not quite up to the standard of my absolute favorite White Castles but still very tasty!   \n",
       "2  I can't believe I never knew about a place that is a mere five minutes away from me, in a complex that I shop at frequently, until earlier today.  I found all the reviews from here very tempting, and so too were the prices.  \\n\\nI ordered a Chicago dog and two cheese sliders, both with everything on them.  The dog was THE BEST Chicago dog I've had in Arizona, and I've lived here for 22 years.  However, the hot dog was not the pinnacle of my meal.  The cheese sliders were A-MAZING.  The best I've ever had...anywhere.  They were slightly bigger than I expected, but I wished I had ordered more when I was done with them.\\n\\nI took advantage of their take-out, since I dined alone, but the actual dining area is a lot bigger than one would think by looking at it from the outside.  Lot's of Ch...   \n",
       "3                                                                                                                                                                                                                                                                                                                                                                                                                                                                                                                                                                                               The one thing keeping this place from getting 5 stars?  Steam the facking buns for chrissakes.  If the slider meat would have been cooked fresh and buns steamed would have been a great meal.  But a cold slider bun sucks ass...   \n",
       "4                                                                                                                                                                                                                                                                                                                                                                                                                                                          We've tried a few different Chinese delivery places. I'll admit I'm not a huge fan of Chinese food. But this place had some good food. I like the shrimp lo mein and kung pow shrimp. The shrimp was juicy, unlike some other places we tried. It is also a good price with huge portions! \\nDon't order the poo poo platter though, none of the items in it were good.   \n",
       "\n",
       "     date_new  year  day  Weekday hour  text_length  \n",
       "0  2018-07-08  2018    8        6   08          240  \n",
       "1  2011-01-09  2011    9        6   22          557  \n",
       "2  2009-08-08  2009    8        5   03         1104  \n",
       "3  2009-06-07  2009    7        6   21          226  \n",
       "4  2014-12-19  2014   19        4   04          358  "
      ]
     },
     "execution_count": 25,
     "metadata": {},
     "output_type": "execute_result"
    }
   ],
   "source": [
    "rev['text_length'] = rev['text'].apply(len)\n",
    "rev.head()"
   ]
  },
  {
   "cell_type": "code",
   "execution_count": 26,
   "metadata": {},
   "outputs": [
    {
     "data": {
      "text/plain": [
       "<seaborn.axisgrid.FacetGrid at 0x18e4bd9e748>"
      ]
     },
     "execution_count": 26,
     "metadata": {},
     "output_type": "execute_result"
    },
    {
     "data": {
      "image/png": "[encoded data removed]",
      "text/plain": [
       "<Figure size 1080x216 with 5 Axes>"
      ]
     },
     "metadata": {
      "needs_background": "light"
     },
     "output_type": "display_data"
    }
   ],
   "source": [
    "g = sns.FacetGrid(data=rev, col='review_stars')\n",
    "g.map(plt.hist, 'text_length', bins=50)"
   ]
  },
  {
   "cell_type": "markdown",
   "metadata": {},
   "source": [
    "The distribution of text length is similar across all five ratings. \n",
    "However, the number of text reviews seems to be skewed a lot higher towards the 4-star and 5-star ratings. \n",
    "This may cause some issues later on in the process"
   ]
  },
  {
   "cell_type": "code",
   "execution_count": 27,
   "metadata": {},
   "outputs": [],
   "source": [
    "#Adding cuisine for business\n",
    "rev.loc[rev['categories'].str.contains('American'), 'cuisine'] = 'American'\n",
    "rev.loc[rev['categories'].str.contains('Mexican'), 'cuisine'] = 'Mexican'\n",
    "rev.loc[rev['categories'].str.contains('Italian'), 'cuisine'] = 'Italian'\n",
    "rev.loc[rev['categories'].str.contains('Japanese'), 'cuisine'] = 'Japanese'\n",
    "rev.loc[rev['categories'].str.contains('Chinese'), 'cuisine'] = 'Chinese'\n",
    "rev.loc[rev['categories'].str.contains('Middle Eastern'), 'cuisine'] = 'Middle Eastern'\n",
    "rev.loc[rev['categories'].str.contains('Thai'), 'cuisine'] = 'Thai'\n",
    "rev.loc[rev['categories'].str.contains('Japanese'), 'cuisine'] = 'Japanese'"
   ]
  },
  {
   "cell_type": "code",
   "execution_count": 28,
   "metadata": {},
   "outputs": [
    {
     "data": {
      "text/plain": [
       "name                 0\n",
       "city                 0\n",
       "stars                0\n",
       "review_count         0\n",
       "is_open              0\n",
       "attributes         745\n",
       "categories           0\n",
       "review_stars         0\n",
       "text                 0\n",
       "date_new             0\n",
       "year                 0\n",
       "day                  0\n",
       "Weekday              0\n",
       "hour                 0\n",
       "text_length          0\n",
       "cuisine         444388\n",
       "dtype: int64"
      ]
     },
     "execution_count": 28,
     "metadata": {},
     "output_type": "execute_result"
    }
   ],
   "source": [
    "rev.isnull().sum()"
   ]
  },
  {
   "cell_type": "code",
   "execution_count": 29,
   "metadata": {},
   "outputs": [
    {
     "data": {
      "text/plain": [
       "(1442738, 16)"
      ]
     },
     "execution_count": 29,
     "metadata": {},
     "output_type": "execute_result"
    }
   ],
   "source": [
    "rev.shape"
   ]
  },
  {
   "cell_type": "code",
   "execution_count": 30,
   "metadata": {},
   "outputs": [],
   "source": [
    "rev['cuisine'].fillna('Fast Food',inplace=True)"
   ]
  },
  {
   "cell_type": "code",
   "execution_count": 31,
   "metadata": {},
   "outputs": [
    {
     "data": {
      "text/plain": [
       "name              0\n",
       "city              0\n",
       "stars             0\n",
       "review_count      0\n",
       "is_open           0\n",
       "attributes      745\n",
       "categories        0\n",
       "review_stars      0\n",
       "text              0\n",
       "date_new          0\n",
       "year              0\n",
       "day               0\n",
       "Weekday           0\n",
       "hour              0\n",
       "text_length       0\n",
       "cuisine           0\n",
       "dtype: int64"
      ]
     },
     "execution_count": 31,
     "metadata": {},
     "output_type": "execute_result"
    }
   ],
   "source": [
    "rev.isnull().sum()"
   ]
  },
  {
   "cell_type": "code",
   "execution_count": 32,
   "metadata": {},
   "outputs": [
    {
     "name": "stderr",
     "output_type": "stream",
     "text": [
      "No handles with labels found to put in legend.\n"
     ]
    },
    {
     "data": {
      "image/png": "[encoded data removed]",
      "text/plain": [
       "<Figure size 864x432 with 1 Axes>"
      ]
     },
     "metadata": {
      "needs_background": "light"
     },
     "output_type": "display_data"
    }
   ],
   "source": [
    "plt.figure(figsize=(12,6))\n",
    "S1 = sns.countplot(x='cuisine',data=rev,palette='plasma')\n",
    "\n",
    "# To relocate the legend\n",
    "plt.legend(bbox_to_anchor=(1.05, 1), loc=2, borderaxespad=0.,prop=dict(size=15))\n",
    "for p in S1.patches:\n",
    "    S1.annotate(format(p.get_height(), '.2f'), (p.get_x() + p.get_width() / 2., p.get_height()),\n",
    "                ha = 'center', va = 'center', xytext = (0, 10), textcoords = 'offset points')"
   ]
  },
  {
   "cell_type": "markdown",
   "metadata": {},
   "source": [
    "# Text Pre-processing"
   ]
  },
  {
   "cell_type": "code",
   "execution_count": 33,
   "metadata": {},
   "outputs": [],
   "source": [
    "gensim.parsing.preprocessing.STOPWORDS\n",
    "my_stop_words = STOPWORDS.union(set(['weve','ive','nt','hvnt','im','youll','ill','wasnt','will',\n",
    "                                     'us','came','even','one','got','s','t','nt']))"
   ]
  },
  {
   "cell_type": "code",
   "execution_count": 34,
   "metadata": {},
   "outputs": [],
   "source": [
    "# # Gensim Text Cleaner\n",
    "#     # Lower case all words\n",
    "#     rev['text_new'] = rev['text'].apply(lambda x: \" \".join(x.lower() for x in x.split()))\n",
    "    \n",
    "#     # Remove Punctuation and Numbers\n",
    "#     rev['text_new'] = rev['text_new'].str.replace('[^\\w\\s]', '')\n",
    "#     rev['text_new'] = rev['text_new'].str.replace(\"[^a-zA-Z#]\", \" \")\n",
    "    \n",
    "#     # Remove Stopwords\n",
    "#     rev['text_new'] = rev['text_new'].apply(lambda x: \" \".join(x for x in x.split() if x not in my_stop_words))"
   ]
  },
  {
   "cell_type": "code",
   "execution_count": 35,
   "metadata": {},
   "outputs": [],
   "source": [
    "# Lower case all words\n",
    "rev['text_new'] = rev['text'].apply(lambda x: \" \".join(x.lower() for x in x.split()))"
   ]
  },
  {
   "cell_type": "code",
   "execution_count": 36,
   "metadata": {},
   "outputs": [],
   "source": [
    "def decontracted(phrase):\n",
    "    # specific\n",
    "    phrase = re.sub(r\"won\\'t\", \"will not\", phrase)\n",
    "    phrase = re.sub(r\"can\\'t\", \"can not\", phrase)\n",
    "\n",
    "    # general\n",
    "    phrase = re.sub(r\"n\\'t\", \" not\", phrase)\n",
    "    phrase = re.sub(r\"\\'re\", \" are\", phrase)\n",
    "    phrase = re.sub(r\"\\'d\", \" would\", phrase)\n",
    "    phrase = re.sub(r\"\\'ll\", \" will\", phrase)\n",
    "    phrase = re.sub(r\"\\'t\", \" not\", phrase)\n",
    "    phrase = re.sub(r\"\\'ve\", \" have\", phrase)\n",
    "    phrase = re.sub(r\"\\'m\", \" am\", phrase)\n",
    "    return phrase"
   ]
  },
  {
   "cell_type": "code",
   "execution_count": 37,
   "metadata": {},
   "outputs": [],
   "source": [
    "rev['text_new'] = rev['text_new'].apply(lambda text: decontracted(text))"
   ]
  },
  {
   "cell_type": "code",
   "execution_count": 38,
   "metadata": {},
   "outputs": [],
   "source": [
    "def clean_text(text):\n",
    "    \n",
    "    # Removal of hashtags\n",
    "    text = re.sub(\"#[^\\s]*\", \" \", text)\n",
    "    \n",
    "    # Remove Punctuation and Numbers\n",
    "    text = re.sub(\"[^\\w\\s]\",\" \",text)\n",
    "    text = re.sub(\"[^a-zA-Z#]\", \" \",text)\n",
    "    text = re.sub(\"'\", \"\", text)\n",
    "    return text"
   ]
  },
  {
   "cell_type": "code",
   "execution_count": 39,
   "metadata": {},
   "outputs": [],
   "source": [
    "rev['text_new'] = rev['text_new'].astype(str)"
   ]
  },
  {
   "cell_type": "code",
   "execution_count": 40,
   "metadata": {},
   "outputs": [],
   "source": [
    "rev['text_new'] = rev['text_new'].apply(lambda text: clean_text(text))"
   ]
  },
  {
   "cell_type": "code",
   "execution_count": 41,
   "metadata": {},
   "outputs": [],
   "source": [
    "rev['text_new'] = rev['text_new'].apply(lambda x: \" \".join(x for x in x.split() if x not in my_stop_words)) "
   ]
  },
  {
   "cell_type": "code",
   "execution_count": 43,
   "metadata": {},
   "outputs": [
    {
     "data": {
      "text/html": [
       "<div>\n",
       "<style scoped>\n",
       "    .dataframe tbody tr th:only-of-type {\n",
       "        vertical-align: middle;\n",
       "    }\n",
       "\n",
       "    .dataframe tbody tr th {\n",
       "        vertical-align: top;\n",
       "    }\n",
       "\n",
       "    .dataframe thead th {\n",
       "        text-align: right;\n",
       "    }\n",
       "</style>\n",
       "<table border=\"1\" class=\"dataframe\">\n",
       "  <thead>\n",
       "    <tr style=\"text-align: right;\">\n",
       "      <th></th>\n",
       "      <th>name</th>\n",
       "      <th>city</th>\n",
       "      <th>stars</th>\n",
       "      <th>review_count</th>\n",
       "      <th>is_open</th>\n",
       "      <th>attributes</th>\n",
       "      <th>categories</th>\n",
       "      <th>review_stars</th>\n",
       "      <th>text</th>\n",
       "      <th>date_new</th>\n",
       "      <th>year</th>\n",
       "      <th>day</th>\n",
       "      <th>Weekday</th>\n",
       "      <th>hour</th>\n",
       "      <th>text_length</th>\n",
       "      <th>cuisine</th>\n",
       "      <th>text_new</th>\n",
       "    </tr>\n",
       "  </thead>\n",
       "  <tbody>\n",
       "    <tr>\n",
       "      <th>0</th>\n",
       "      <td>Wetzel's Pretzels</td>\n",
       "      <td>Phoenix</td>\n",
       "      <td>4.0</td>\n",
       "      <td>10</td>\n",
       "      <td>1</td>\n",
       "      <td>{'GoodForKids': 'True', 'RestaurantsTakeOut': 'True', 'RestaurantsPriceRange2': '1', 'BusinessAcceptsCreditCards': 'True', 'OutdoorSeating': 'False', 'BikeParking': 'True', 'RestaurantsAttire': \"u'casual'\", 'RestaurantsReservations': 'False', 'Ambience': \"{'romantic': False, 'intimate': False, 'touristy': False, 'hipster': False, 'divey': False, 'classy': False, 'trendy': False, 'upscale': False, 'casual': False}\", 'RestaurantsGoodForGroups': 'True', 'Alcohol': \"u'none'\", 'RestaurantsDelivery': 'False', 'HasTV': 'False', 'BusinessParking': \"{'garage': False, 'street': False, 'validated': False, 'lot': True, 'valet': False}\"}</td>\n",
       "      <td>Food, Pretzels, Bakeries, Fast Food, Restaurants</td>\n",
       "      <td>5</td>\n",
       "      <td>Love Wetzel's pretzels! I always get them when I'm at the mall! \\n\\nIf you download their app you get rewards for a free pretzel. \\n\\nI love the Wetzel's bites either salty or cinnamon. The Wetzel's dog bites are okay, they taste like hot dogs.</td>\n",
       "      <td>2018-07-08</td>\n",
       "      <td>2018</td>\n",
       "      <td>8</td>\n",
       "      <td>6</td>\n",
       "      <td>08</td>\n",
       "      <td>240</td>\n",
       "      <td>Fast Food</td>\n",
       "      <td>love wetzel pretzels always mall download app rewards free pretzel love wetzel bites either salty cinnamon wetzel dog bites okay taste hot dogs</td>\n",
       "    </tr>\n",
       "    <tr>\n",
       "      <th>1</th>\n",
       "      <td>Boomer's Sweet Home Chicago</td>\n",
       "      <td>Glendale</td>\n",
       "      <td>3.5</td>\n",
       "      <td>12</td>\n",
       "      <td>0</td>\n",
       "      <td>{'BusinessAcceptsCreditCards': 'True', 'BusinessParking': \"{'garage': False, 'street': False, 'validated': False, 'lot': True, 'valet': False}\", 'GoodForKids': 'True', 'RestaurantsGoodForGroups': 'True', 'RestaurantsReservations': 'False', 'RestaurantsTakeOut': 'True', 'RestaurantsAttire': \"'casual'\", 'RestaurantsPriceRange2': '1', 'Alcohol': \"u'none'\", 'OutdoorSeating': 'False'}</td>\n",
       "      <td>Burgers, Fast Food, American (New), Restaurants, Hot Dogs</td>\n",
       "      <td>5</td>\n",
       "      <td>We just recently discovered this place and I just wish we have discovered it sooner!\\n\\nThe hot dogs are to die for! They are perfectly snappy with all the traditional Chicago fixin's on poppy seed bun. Yum!\\n\\nI love the fries which are served in generous sized portions and always come out so hot, fresh, and crisp! \\n\\nThe Italian Beef is a heck of a sandwich with tender meat, lots of peppers, delicious bread, and au jus!\\n\\nMy girls and I are huge fans of their sliders. Not quite up to the standard of my absolute favorite White Castles but still very tasty!</td>\n",
       "      <td>2011-01-09</td>\n",
       "      <td>2011</td>\n",
       "      <td>9</td>\n",
       "      <td>6</td>\n",
       "      <td>22</td>\n",
       "      <td>557</td>\n",
       "      <td>American</td>\n",
       "      <td>recently discovered place wish discovered sooner hot dogs die perfectly snappy traditional chicago fixin poppy seed bun yum love fries served generous sized portions always come hot fresh crisp italian beef heck sandwich tender meat lots peppers delicious bread au jus girls huge fans sliders quite standard absolute favorite white castles still tasty</td>\n",
       "    </tr>\n",
       "    <tr>\n",
       "      <th>2</th>\n",
       "      <td>Boomer's Sweet Home Chicago</td>\n",
       "      <td>Glendale</td>\n",
       "      <td>3.5</td>\n",
       "      <td>12</td>\n",
       "      <td>0</td>\n",
       "      <td>{'BusinessAcceptsCreditCards': 'True', 'BusinessParking': \"{'garage': False, 'street': False, 'validated': False, 'lot': True, 'valet': False}\", 'GoodForKids': 'True', 'RestaurantsGoodForGroups': 'True', 'RestaurantsReservations': 'False', 'RestaurantsTakeOut': 'True', 'RestaurantsAttire': \"'casual'\", 'RestaurantsPriceRange2': '1', 'Alcohol': \"u'none'\", 'OutdoorSeating': 'False'}</td>\n",
       "      <td>Burgers, Fast Food, American (New), Restaurants, Hot Dogs</td>\n",
       "      <td>5</td>\n",
       "      <td>I can't believe I never knew about a place that is a mere five minutes away from me, in a complex that I shop at frequently, until earlier today.  I found all the reviews from here very tempting, and so too were the prices.  \\n\\nI ordered a Chicago dog and two cheese sliders, both with everything on them.  The dog was THE BEST Chicago dog I've had in Arizona, and I've lived here for 22 years.  However, the hot dog was not the pinnacle of my meal.  The cheese sliders were A-MAZING.  The best I've ever had...anywhere.  They were slightly bigger than I expected, but I wished I had ordered more when I was done with them.\\n\\nI took advantage of their take-out, since I dined alone, but the actual dining area is a lot bigger than one would think by looking at it from the outside.  Lot's of Ch...</td>\n",
       "      <td>2009-08-08</td>\n",
       "      <td>2009</td>\n",
       "      <td>8</td>\n",
       "      <td>5</td>\n",
       "      <td>03</td>\n",
       "      <td>1104</td>\n",
       "      <td>American</td>\n",
       "      <td>believe never knew place mere five minutes away complex shop frequently earlier today found reviews tempting prices ordered chicago dog two cheese sliders everything dog best chicago dog arizona lived years hot dog pinnacle meal cheese sliders mazing best anywhere slightly bigger expected wished ordered done took advantage take dined alone actual dining area lot bigger think looking outside lot chicago memorabilia pictures add atmosphere favorite piece poster hot dog rated nk ketchup unless age beautiful sum good place dine take best dogs arizona possibly best sliders anywhere highly recommended</td>\n",
       "    </tr>\n",
       "    <tr>\n",
       "      <th>3</th>\n",
       "      <td>Boomer's Sweet Home Chicago</td>\n",
       "      <td>Glendale</td>\n",
       "      <td>3.5</td>\n",
       "      <td>12</td>\n",
       "      <td>0</td>\n",
       "      <td>{'BusinessAcceptsCreditCards': 'True', 'BusinessParking': \"{'garage': False, 'street': False, 'validated': False, 'lot': True, 'valet': False}\", 'GoodForKids': 'True', 'RestaurantsGoodForGroups': 'True', 'RestaurantsReservations': 'False', 'RestaurantsTakeOut': 'True', 'RestaurantsAttire': \"'casual'\", 'RestaurantsPriceRange2': '1', 'Alcohol': \"u'none'\", 'OutdoorSeating': 'False'}</td>\n",
       "      <td>Burgers, Fast Food, American (New), Restaurants, Hot Dogs</td>\n",
       "      <td>3</td>\n",
       "      <td>The one thing keeping this place from getting 5 stars?  Steam the facking buns for chrissakes.  If the slider meat would have been cooked fresh and buns steamed would have been a great meal.  But a cold slider bun sucks ass...</td>\n",
       "      <td>2009-06-07</td>\n",
       "      <td>2009</td>\n",
       "      <td>7</td>\n",
       "      <td>6</td>\n",
       "      <td>21</td>\n",
       "      <td>226</td>\n",
       "      <td>American</td>\n",
       "      <td>thing keeping place getting stars steam facking buns chrissakes slider meat cooked fresh buns steamed great meal cold slider bun sucks ass</td>\n",
       "    </tr>\n",
       "    <tr>\n",
       "      <th>4</th>\n",
       "      <td>China Gourmet</td>\n",
       "      <td>Mesa</td>\n",
       "      <td>3.0</td>\n",
       "      <td>13</td>\n",
       "      <td>0</td>\n",
       "      <td>{'RestaurantsPriceRange2': '1', 'RestaurantsAttire': \"'casual'\", 'OutdoorSeating': 'False', 'GoodForKids': 'True', 'NoiseLevel': \"u'quiet'\", 'RestaurantsGoodForGroups': 'True', 'BusinessParking': \"{'garage': False, 'street': False, 'validated': False, 'lot': False, 'valet': False}\", 'RestaurantsDelivery': 'True', 'WiFi': \"'no'\", 'RestaurantsTakeOut': 'True', 'RestaurantsReservations': 'False', 'BusinessAcceptsCreditCards': 'True', 'BikeParking': 'False'}</td>\n",
       "      <td>Chinese, Restaurants</td>\n",
       "      <td>4</td>\n",
       "      <td>We've tried a few different Chinese delivery places. I'll admit I'm not a huge fan of Chinese food. But this place had some good food. I like the shrimp lo mein and kung pow shrimp. The shrimp was juicy, unlike some other places we tried. It is also a good price with huge portions! \\nDon't order the poo poo platter though, none of the items in it were good.</td>\n",
       "      <td>2014-12-19</td>\n",
       "      <td>2014</td>\n",
       "      <td>19</td>\n",
       "      <td>4</td>\n",
       "      <td>04</td>\n",
       "      <td>358</td>\n",
       "      <td>Chinese</td>\n",
       "      <td>tried different chinese delivery places admit huge fan chinese food place good food shrimp lo mein kung pow shrimp shrimp juicy unlike places tried good price huge portions order poo poo platter though none items good</td>\n",
       "    </tr>\n",
       "  </tbody>\n",
       "</table>\n",
       "</div>"
      ],
      "text/plain": [
       "                          name      city  stars  review_count  is_open  \\\n",
       "0            Wetzel's Pretzels   Phoenix    4.0            10        1   \n",
       "1  Boomer's Sweet Home Chicago  Glendale    3.5            12        0   \n",
       "2  Boomer's Sweet Home Chicago  Glendale    3.5            12        0   \n",
       "3  Boomer's Sweet Home Chicago  Glendale    3.5            12        0   \n",
       "4                China Gourmet      Mesa    3.0            13        0   \n",
       "\n",
       "                                                                                                                                                                                                                                                                                                                                                                                                                                                                                                                                                                                                                                                 attributes  \\\n",
       "0  {'GoodForKids': 'True', 'RestaurantsTakeOut': 'True', 'RestaurantsPriceRange2': '1', 'BusinessAcceptsCreditCards': 'True', 'OutdoorSeating': 'False', 'BikeParking': 'True', 'RestaurantsAttire': \"u'casual'\", 'RestaurantsReservations': 'False', 'Ambience': \"{'romantic': False, 'intimate': False, 'touristy': False, 'hipster': False, 'divey': False, 'classy': False, 'trendy': False, 'upscale': False, 'casual': False}\", 'RestaurantsGoodForGroups': 'True', 'Alcohol': \"u'none'\", 'RestaurantsDelivery': 'False', 'HasTV': 'False', 'BusinessParking': \"{'garage': False, 'street': False, 'validated': False, 'lot': True, 'valet': False}\"}   \n",
       "1                                                                                                                                                                                                                                                            {'BusinessAcceptsCreditCards': 'True', 'BusinessParking': \"{'garage': False, 'street': False, 'validated': False, 'lot': True, 'valet': False}\", 'GoodForKids': 'True', 'RestaurantsGoodForGroups': 'True', 'RestaurantsReservations': 'False', 'RestaurantsTakeOut': 'True', 'RestaurantsAttire': \"'casual'\", 'RestaurantsPriceRange2': '1', 'Alcohol': \"u'none'\", 'OutdoorSeating': 'False'}   \n",
       "2                                                                                                                                                                                                                                                            {'BusinessAcceptsCreditCards': 'True', 'BusinessParking': \"{'garage': False, 'street': False, 'validated': False, 'lot': True, 'valet': False}\", 'GoodForKids': 'True', 'RestaurantsGoodForGroups': 'True', 'RestaurantsReservations': 'False', 'RestaurantsTakeOut': 'True', 'RestaurantsAttire': \"'casual'\", 'RestaurantsPriceRange2': '1', 'Alcohol': \"u'none'\", 'OutdoorSeating': 'False'}   \n",
       "3                                                                                                                                                                                                                                                            {'BusinessAcceptsCreditCards': 'True', 'BusinessParking': \"{'garage': False, 'street': False, 'validated': False, 'lot': True, 'valet': False}\", 'GoodForKids': 'True', 'RestaurantsGoodForGroups': 'True', 'RestaurantsReservations': 'False', 'RestaurantsTakeOut': 'True', 'RestaurantsAttire': \"'casual'\", 'RestaurantsPriceRange2': '1', 'Alcohol': \"u'none'\", 'OutdoorSeating': 'False'}   \n",
       "4                                                                                                                                                                                {'RestaurantsPriceRange2': '1', 'RestaurantsAttire': \"'casual'\", 'OutdoorSeating': 'False', 'GoodForKids': 'True', 'NoiseLevel': \"u'quiet'\", 'RestaurantsGoodForGroups': 'True', 'BusinessParking': \"{'garage': False, 'street': False, 'validated': False, 'lot': False, 'valet': False}\", 'RestaurantsDelivery': 'True', 'WiFi': \"'no'\", 'RestaurantsTakeOut': 'True', 'RestaurantsReservations': 'False', 'BusinessAcceptsCreditCards': 'True', 'BikeParking': 'False'}   \n",
       "\n",
       "                                                  categories  review_stars  \\\n",
       "0           Food, Pretzels, Bakeries, Fast Food, Restaurants             5   \n",
       "1  Burgers, Fast Food, American (New), Restaurants, Hot Dogs             5   \n",
       "2  Burgers, Fast Food, American (New), Restaurants, Hot Dogs             5   \n",
       "3  Burgers, Fast Food, American (New), Restaurants, Hot Dogs             3   \n",
       "4                                       Chinese, Restaurants             4   \n",
       "\n",
       "                                                                                                                                                                                                                                                                                                                                                                                                                                                                                                                                                                                                                                                                                                                                                                                                                              text  \\\n",
       "0                                                                                                                                                                                                                                                                                                                                                                                                                                                                                                                                                                             Love Wetzel's pretzels! I always get them when I'm at the mall! \\n\\nIf you download their app you get rewards for a free pretzel. \\n\\nI love the Wetzel's bites either salty or cinnamon. The Wetzel's dog bites are okay, they taste like hot dogs.   \n",
       "1                                                                                                                                                                                                                                            We just recently discovered this place and I just wish we have discovered it sooner!\\n\\nThe hot dogs are to die for! They are perfectly snappy with all the traditional Chicago fixin's on poppy seed bun. Yum!\\n\\nI love the fries which are served in generous sized portions and always come out so hot, fresh, and crisp! \\n\\nThe Italian Beef is a heck of a sandwich with tender meat, lots of peppers, delicious bread, and au jus!\\n\\nMy girls and I are huge fans of their sliders. Not quite up to the standard of my absolute favorite White Castles but still very tasty!   \n",
       "2  I can't believe I never knew about a place that is a mere five minutes away from me, in a complex that I shop at frequently, until earlier today.  I found all the reviews from here very tempting, and so too were the prices.  \\n\\nI ordered a Chicago dog and two cheese sliders, both with everything on them.  The dog was THE BEST Chicago dog I've had in Arizona, and I've lived here for 22 years.  However, the hot dog was not the pinnacle of my meal.  The cheese sliders were A-MAZING.  The best I've ever had...anywhere.  They were slightly bigger than I expected, but I wished I had ordered more when I was done with them.\\n\\nI took advantage of their take-out, since I dined alone, but the actual dining area is a lot bigger than one would think by looking at it from the outside.  Lot's of Ch...   \n",
       "3                                                                                                                                                                                                                                                                                                                                                                                                                                                                                                                                                                                               The one thing keeping this place from getting 5 stars?  Steam the facking buns for chrissakes.  If the slider meat would have been cooked fresh and buns steamed would have been a great meal.  But a cold slider bun sucks ass...   \n",
       "4                                                                                                                                                                                                                                                                                                                                                                                                                                                          We've tried a few different Chinese delivery places. I'll admit I'm not a huge fan of Chinese food. But this place had some good food. I like the shrimp lo mein and kung pow shrimp. The shrimp was juicy, unlike some other places we tried. It is also a good price with huge portions! \\nDon't order the poo poo platter though, none of the items in it were good.   \n",
       "\n",
       "     date_new  year  day  Weekday hour  text_length    cuisine  \\\n",
       "0  2018-07-08  2018    8        6   08          240  Fast Food   \n",
       "1  2011-01-09  2011    9        6   22          557   American   \n",
       "2  2009-08-08  2009    8        5   03         1104   American   \n",
       "3  2009-06-07  2009    7        6   21          226   American   \n",
       "4  2014-12-19  2014   19        4   04          358    Chinese   \n",
       "\n",
       "                                                                                                                                                                                                                                                                                                                                                                                                                                                                                                                                                                                                                     text_new  \n",
       "0                                                                                                                                                                                                                                                                                                                                                                                                                                                                             love wetzel pretzels always mall download app rewards free pretzel love wetzel bites either salty cinnamon wetzel dog bites okay taste hot dogs  \n",
       "1                                                                                                                                                                                                                                                             recently discovered place wish discovered sooner hot dogs die perfectly snappy traditional chicago fixin poppy seed bun yum love fries served generous sized portions always come hot fresh crisp italian beef heck sandwich tender meat lots peppers delicious bread au jus girls huge fans sliders quite standard absolute favorite white castles still tasty  \n",
       "2  believe never knew place mere five minutes away complex shop frequently earlier today found reviews tempting prices ordered chicago dog two cheese sliders everything dog best chicago dog arizona lived years hot dog pinnacle meal cheese sliders mazing best anywhere slightly bigger expected wished ordered done took advantage take dined alone actual dining area lot bigger think looking outside lot chicago memorabilia pictures add atmosphere favorite piece poster hot dog rated nk ketchup unless age beautiful sum good place dine take best dogs arizona possibly best sliders anywhere highly recommended  \n",
       "3                                                                                                                                                                                                                                                                                                                                                                                                                                                                                  thing keeping place getting stars steam facking buns chrissakes slider meat cooked fresh buns steamed great meal cold slider bun sucks ass  \n",
       "4                                                                                                                                                                                                                                                                                                                                                                                                   tried different chinese delivery places admit huge fan chinese food place good food shrimp lo mein kung pow shrimp shrimp juicy unlike places tried good price huge portions order poo poo platter though none items good  "
      ]
     },
     "execution_count": 43,
     "metadata": {},
     "output_type": "execute_result"
    }
   ],
   "source": [
    "rev.head()"
   ]
  },
  {
   "cell_type": "code",
   "execution_count": 44,
   "metadata": {},
   "outputs": [],
   "source": [
    "# Calculate word count\n",
    "rev['word_count'] = rev['text_new'].apply(lambda x: len(str(x).split(\" \")))"
   ]
  },
  {
   "cell_type": "code",
   "execution_count": 45,
   "metadata": {},
   "outputs": [
    {
     "data": {
      "text/html": [
       "<div>\n",
       "<style scoped>\n",
       "    .dataframe tbody tr th:only-of-type {\n",
       "        vertical-align: middle;\n",
       "    }\n",
       "\n",
       "    .dataframe tbody tr th {\n",
       "        vertical-align: top;\n",
       "    }\n",
       "\n",
       "    .dataframe thead th {\n",
       "        text-align: right;\n",
       "    }\n",
       "</style>\n",
       "<table border=\"1\" class=\"dataframe\">\n",
       "  <thead>\n",
       "    <tr style=\"text-align: right;\">\n",
       "      <th></th>\n",
       "      <th>name</th>\n",
       "      <th>city</th>\n",
       "      <th>stars</th>\n",
       "      <th>review_count</th>\n",
       "      <th>is_open</th>\n",
       "      <th>attributes</th>\n",
       "      <th>categories</th>\n",
       "      <th>review_stars</th>\n",
       "      <th>text</th>\n",
       "      <th>date_new</th>\n",
       "      <th>year</th>\n",
       "      <th>day</th>\n",
       "      <th>Weekday</th>\n",
       "      <th>hour</th>\n",
       "      <th>text_length</th>\n",
       "      <th>cuisine</th>\n",
       "      <th>text_new</th>\n",
       "      <th>word_count</th>\n",
       "    </tr>\n",
       "  </thead>\n",
       "  <tbody>\n",
       "    <tr>\n",
       "      <th>0</th>\n",
       "      <td>Wetzel's Pretzels</td>\n",
       "      <td>Phoenix</td>\n",
       "      <td>4.0</td>\n",
       "      <td>10</td>\n",
       "      <td>1</td>\n",
       "      <td>{'GoodForKids': 'True', 'RestaurantsTakeOut': 'True', 'RestaurantsPriceRange2': '1', 'BusinessAcceptsCreditCards': 'True', 'OutdoorSeating': 'False', 'BikeParking': 'True', 'RestaurantsAttire': \"u'casual'\", 'RestaurantsReservations': 'False', 'Ambience': \"{'romantic': False, 'intimate': False, 'touristy': False, 'hipster': False, 'divey': False, 'classy': False, 'trendy': False, 'upscale': False, 'casual': False}\", 'RestaurantsGoodForGroups': 'True', 'Alcohol': \"u'none'\", 'RestaurantsDelivery': 'False', 'HasTV': 'False', 'BusinessParking': \"{'garage': False, 'street': False, 'validated': False, 'lot': True, 'valet': False}\"}</td>\n",
       "      <td>Food, Pretzels, Bakeries, Fast Food, Restaurants</td>\n",
       "      <td>5</td>\n",
       "      <td>Love Wetzel's pretzels! I always get them when I'm at the mall! \\n\\nIf you download their app you get rewards for a free pretzel. \\n\\nI love the Wetzel's bites either salty or cinnamon. The Wetzel's dog bites are okay, they taste like hot dogs.</td>\n",
       "      <td>2018-07-08</td>\n",
       "      <td>2018</td>\n",
       "      <td>8</td>\n",
       "      <td>6</td>\n",
       "      <td>08</td>\n",
       "      <td>240</td>\n",
       "      <td>Fast Food</td>\n",
       "      <td>love wetzel pretzels always mall download app rewards free pretzel love wetzel bites either salty cinnamon wetzel dog bites okay taste hot dogs</td>\n",
       "      <td>23</td>\n",
       "    </tr>\n",
       "    <tr>\n",
       "      <th>1</th>\n",
       "      <td>Boomer's Sweet Home Chicago</td>\n",
       "      <td>Glendale</td>\n",
       "      <td>3.5</td>\n",
       "      <td>12</td>\n",
       "      <td>0</td>\n",
       "      <td>{'BusinessAcceptsCreditCards': 'True', 'BusinessParking': \"{'garage': False, 'street': False, 'validated': False, 'lot': True, 'valet': False}\", 'GoodForKids': 'True', 'RestaurantsGoodForGroups': 'True', 'RestaurantsReservations': 'False', 'RestaurantsTakeOut': 'True', 'RestaurantsAttire': \"'casual'\", 'RestaurantsPriceRange2': '1', 'Alcohol': \"u'none'\", 'OutdoorSeating': 'False'}</td>\n",
       "      <td>Burgers, Fast Food, American (New), Restaurants, Hot Dogs</td>\n",
       "      <td>5</td>\n",
       "      <td>We just recently discovered this place and I just wish we have discovered it sooner!\\n\\nThe hot dogs are to die for! They are perfectly snappy with all the traditional Chicago fixin's on poppy seed bun. Yum!\\n\\nI love the fries which are served in generous sized portions and always come out so hot, fresh, and crisp! \\n\\nThe Italian Beef is a heck of a sandwich with tender meat, lots of peppers, delicious bread, and au jus!\\n\\nMy girls and I are huge fans of their sliders. Not quite up to the standard of my absolute favorite White Castles but still very tasty!</td>\n",
       "      <td>2011-01-09</td>\n",
       "      <td>2011</td>\n",
       "      <td>9</td>\n",
       "      <td>6</td>\n",
       "      <td>22</td>\n",
       "      <td>557</td>\n",
       "      <td>American</td>\n",
       "      <td>recently discovered place wish discovered sooner hot dogs die perfectly snappy traditional chicago fixin poppy seed bun yum love fries served generous sized portions always come hot fresh crisp italian beef heck sandwich tender meat lots peppers delicious bread au jus girls huge fans sliders quite standard absolute favorite white castles still tasty</td>\n",
       "      <td>53</td>\n",
       "    </tr>\n",
       "    <tr>\n",
       "      <th>2</th>\n",
       "      <td>Boomer's Sweet Home Chicago</td>\n",
       "      <td>Glendale</td>\n",
       "      <td>3.5</td>\n",
       "      <td>12</td>\n",
       "      <td>0</td>\n",
       "      <td>{'BusinessAcceptsCreditCards': 'True', 'BusinessParking': \"{'garage': False, 'street': False, 'validated': False, 'lot': True, 'valet': False}\", 'GoodForKids': 'True', 'RestaurantsGoodForGroups': 'True', 'RestaurantsReservations': 'False', 'RestaurantsTakeOut': 'True', 'RestaurantsAttire': \"'casual'\", 'RestaurantsPriceRange2': '1', 'Alcohol': \"u'none'\", 'OutdoorSeating': 'False'}</td>\n",
       "      <td>Burgers, Fast Food, American (New), Restaurants, Hot Dogs</td>\n",
       "      <td>5</td>\n",
       "      <td>I can't believe I never knew about a place that is a mere five minutes away from me, in a complex that I shop at frequently, until earlier today.  I found all the reviews from here very tempting, and so too were the prices.  \\n\\nI ordered a Chicago dog and two cheese sliders, both with everything on them.  The dog was THE BEST Chicago dog I've had in Arizona, and I've lived here for 22 years.  However, the hot dog was not the pinnacle of my meal.  The cheese sliders were A-MAZING.  The best I've ever had...anywhere.  They were slightly bigger than I expected, but I wished I had ordered more when I was done with them.\\n\\nI took advantage of their take-out, since I dined alone, but the actual dining area is a lot bigger than one would think by looking at it from the outside.  Lot's of Ch...</td>\n",
       "      <td>2009-08-08</td>\n",
       "      <td>2009</td>\n",
       "      <td>8</td>\n",
       "      <td>5</td>\n",
       "      <td>03</td>\n",
       "      <td>1104</td>\n",
       "      <td>American</td>\n",
       "      <td>believe never knew place mere five minutes away complex shop frequently earlier today found reviews tempting prices ordered chicago dog two cheese sliders everything dog best chicago dog arizona lived years hot dog pinnacle meal cheese sliders mazing best anywhere slightly bigger expected wished ordered done took advantage take dined alone actual dining area lot bigger think looking outside lot chicago memorabilia pictures add atmosphere favorite piece poster hot dog rated nk ketchup unless age beautiful sum good place dine take best dogs arizona possibly best sliders anywhere highly recommended</td>\n",
       "      <td>90</td>\n",
       "    </tr>\n",
       "    <tr>\n",
       "      <th>3</th>\n",
       "      <td>Boomer's Sweet Home Chicago</td>\n",
       "      <td>Glendale</td>\n",
       "      <td>3.5</td>\n",
       "      <td>12</td>\n",
       "      <td>0</td>\n",
       "      <td>{'BusinessAcceptsCreditCards': 'True', 'BusinessParking': \"{'garage': False, 'street': False, 'validated': False, 'lot': True, 'valet': False}\", 'GoodForKids': 'True', 'RestaurantsGoodForGroups': 'True', 'RestaurantsReservations': 'False', 'RestaurantsTakeOut': 'True', 'RestaurantsAttire': \"'casual'\", 'RestaurantsPriceRange2': '1', 'Alcohol': \"u'none'\", 'OutdoorSeating': 'False'}</td>\n",
       "      <td>Burgers, Fast Food, American (New), Restaurants, Hot Dogs</td>\n",
       "      <td>3</td>\n",
       "      <td>The one thing keeping this place from getting 5 stars?  Steam the facking buns for chrissakes.  If the slider meat would have been cooked fresh and buns steamed would have been a great meal.  But a cold slider bun sucks ass...</td>\n",
       "      <td>2009-06-07</td>\n",
       "      <td>2009</td>\n",
       "      <td>7</td>\n",
       "      <td>6</td>\n",
       "      <td>21</td>\n",
       "      <td>226</td>\n",
       "      <td>American</td>\n",
       "      <td>thing keeping place getting stars steam facking buns chrissakes slider meat cooked fresh buns steamed great meal cold slider bun sucks ass</td>\n",
       "      <td>22</td>\n",
       "    </tr>\n",
       "    <tr>\n",
       "      <th>4</th>\n",
       "      <td>China Gourmet</td>\n",
       "      <td>Mesa</td>\n",
       "      <td>3.0</td>\n",
       "      <td>13</td>\n",
       "      <td>0</td>\n",
       "      <td>{'RestaurantsPriceRange2': '1', 'RestaurantsAttire': \"'casual'\", 'OutdoorSeating': 'False', 'GoodForKids': 'True', 'NoiseLevel': \"u'quiet'\", 'RestaurantsGoodForGroups': 'True', 'BusinessParking': \"{'garage': False, 'street': False, 'validated': False, 'lot': False, 'valet': False}\", 'RestaurantsDelivery': 'True', 'WiFi': \"'no'\", 'RestaurantsTakeOut': 'True', 'RestaurantsReservations': 'False', 'BusinessAcceptsCreditCards': 'True', 'BikeParking': 'False'}</td>\n",
       "      <td>Chinese, Restaurants</td>\n",
       "      <td>4</td>\n",
       "      <td>We've tried a few different Chinese delivery places. I'll admit I'm not a huge fan of Chinese food. But this place had some good food. I like the shrimp lo mein and kung pow shrimp. The shrimp was juicy, unlike some other places we tried. It is also a good price with huge portions! \\nDon't order the poo poo platter though, none of the items in it were good.</td>\n",
       "      <td>2014-12-19</td>\n",
       "      <td>2014</td>\n",
       "      <td>19</td>\n",
       "      <td>4</td>\n",
       "      <td>04</td>\n",
       "      <td>358</td>\n",
       "      <td>Chinese</td>\n",
       "      <td>tried different chinese delivery places admit huge fan chinese food place good food shrimp lo mein kung pow shrimp shrimp juicy unlike places tried good price huge portions order poo poo platter though none items good</td>\n",
       "      <td>36</td>\n",
       "    </tr>\n",
       "  </tbody>\n",
       "</table>\n",
       "</div>"
      ],
      "text/plain": [
       "                          name      city  stars  review_count  is_open  \\\n",
       "0            Wetzel's Pretzels   Phoenix    4.0            10        1   \n",
       "1  Boomer's Sweet Home Chicago  Glendale    3.5            12        0   \n",
       "2  Boomer's Sweet Home Chicago  Glendale    3.5            12        0   \n",
       "3  Boomer's Sweet Home Chicago  Glendale    3.5            12        0   \n",
       "4                China Gourmet      Mesa    3.0            13        0   \n",
       "\n",
       "                                                                                                                                                                                                                                                                                                                                                                                                                                                                                                                                                                                                                                                 attributes  \\\n",
       "0  {'GoodForKids': 'True', 'RestaurantsTakeOut': 'True', 'RestaurantsPriceRange2': '1', 'BusinessAcceptsCreditCards': 'True', 'OutdoorSeating': 'False', 'BikeParking': 'True', 'RestaurantsAttire': \"u'casual'\", 'RestaurantsReservations': 'False', 'Ambience': \"{'romantic': False, 'intimate': False, 'touristy': False, 'hipster': False, 'divey': False, 'classy': False, 'trendy': False, 'upscale': False, 'casual': False}\", 'RestaurantsGoodForGroups': 'True', 'Alcohol': \"u'none'\", 'RestaurantsDelivery': 'False', 'HasTV': 'False', 'BusinessParking': \"{'garage': False, 'street': False, 'validated': False, 'lot': True, 'valet': False}\"}   \n",
       "1                                                                                                                                                                                                                                                            {'BusinessAcceptsCreditCards': 'True', 'BusinessParking': \"{'garage': False, 'street': False, 'validated': False, 'lot': True, 'valet': False}\", 'GoodForKids': 'True', 'RestaurantsGoodForGroups': 'True', 'RestaurantsReservations': 'False', 'RestaurantsTakeOut': 'True', 'RestaurantsAttire': \"'casual'\", 'RestaurantsPriceRange2': '1', 'Alcohol': \"u'none'\", 'OutdoorSeating': 'False'}   \n",
       "2                                                                                                                                                                                                                                                            {'BusinessAcceptsCreditCards': 'True', 'BusinessParking': \"{'garage': False, 'street': False, 'validated': False, 'lot': True, 'valet': False}\", 'GoodForKids': 'True', 'RestaurantsGoodForGroups': 'True', 'RestaurantsReservations': 'False', 'RestaurantsTakeOut': 'True', 'RestaurantsAttire': \"'casual'\", 'RestaurantsPriceRange2': '1', 'Alcohol': \"u'none'\", 'OutdoorSeating': 'False'}   \n",
       "3                                                                                                                                                                                                                                                            {'BusinessAcceptsCreditCards': 'True', 'BusinessParking': \"{'garage': False, 'street': False, 'validated': False, 'lot': True, 'valet': False}\", 'GoodForKids': 'True', 'RestaurantsGoodForGroups': 'True', 'RestaurantsReservations': 'False', 'RestaurantsTakeOut': 'True', 'RestaurantsAttire': \"'casual'\", 'RestaurantsPriceRange2': '1', 'Alcohol': \"u'none'\", 'OutdoorSeating': 'False'}   \n",
       "4                                                                                                                                                                                {'RestaurantsPriceRange2': '1', 'RestaurantsAttire': \"'casual'\", 'OutdoorSeating': 'False', 'GoodForKids': 'True', 'NoiseLevel': \"u'quiet'\", 'RestaurantsGoodForGroups': 'True', 'BusinessParking': \"{'garage': False, 'street': False, 'validated': False, 'lot': False, 'valet': False}\", 'RestaurantsDelivery': 'True', 'WiFi': \"'no'\", 'RestaurantsTakeOut': 'True', 'RestaurantsReservations': 'False', 'BusinessAcceptsCreditCards': 'True', 'BikeParking': 'False'}   \n",
       "\n",
       "                                                  categories  review_stars  \\\n",
       "0           Food, Pretzels, Bakeries, Fast Food, Restaurants             5   \n",
       "1  Burgers, Fast Food, American (New), Restaurants, Hot Dogs             5   \n",
       "2  Burgers, Fast Food, American (New), Restaurants, Hot Dogs             5   \n",
       "3  Burgers, Fast Food, American (New), Restaurants, Hot Dogs             3   \n",
       "4                                       Chinese, Restaurants             4   \n",
       "\n",
       "                                                                                                                                                                                                                                                                                                                                                                                                                                                                                                                                                                                                                                                                                                                                                                                                                              text  \\\n",
       "0                                                                                                                                                                                                                                                                                                                                                                                                                                                                                                                                                                             Love Wetzel's pretzels! I always get them when I'm at the mall! \\n\\nIf you download their app you get rewards for a free pretzel. \\n\\nI love the Wetzel's bites either salty or cinnamon. The Wetzel's dog bites are okay, they taste like hot dogs.   \n",
       "1                                                                                                                                                                                                                                            We just recently discovered this place and I just wish we have discovered it sooner!\\n\\nThe hot dogs are to die for! They are perfectly snappy with all the traditional Chicago fixin's on poppy seed bun. Yum!\\n\\nI love the fries which are served in generous sized portions and always come out so hot, fresh, and crisp! \\n\\nThe Italian Beef is a heck of a sandwich with tender meat, lots of peppers, delicious bread, and au jus!\\n\\nMy girls and I are huge fans of their sliders. Not quite up to the standard of my absolute favorite White Castles but still very tasty!   \n",
       "2  I can't believe I never knew about a place that is a mere five minutes away from me, in a complex that I shop at frequently, until earlier today.  I found all the reviews from here very tempting, and so too were the prices.  \\n\\nI ordered a Chicago dog and two cheese sliders, both with everything on them.  The dog was THE BEST Chicago dog I've had in Arizona, and I've lived here for 22 years.  However, the hot dog was not the pinnacle of my meal.  The cheese sliders were A-MAZING.  The best I've ever had...anywhere.  They were slightly bigger than I expected, but I wished I had ordered more when I was done with them.\\n\\nI took advantage of their take-out, since I dined alone, but the actual dining area is a lot bigger than one would think by looking at it from the outside.  Lot's of Ch...   \n",
       "3                                                                                                                                                                                                                                                                                                                                                                                                                                                                                                                                                                                               The one thing keeping this place from getting 5 stars?  Steam the facking buns for chrissakes.  If the slider meat would have been cooked fresh and buns steamed would have been a great meal.  But a cold slider bun sucks ass...   \n",
       "4                                                                                                                                                                                                                                                                                                                                                                                                                                                          We've tried a few different Chinese delivery places. I'll admit I'm not a huge fan of Chinese food. But this place had some good food. I like the shrimp lo mein and kung pow shrimp. The shrimp was juicy, unlike some other places we tried. It is also a good price with huge portions! \\nDon't order the poo poo platter though, none of the items in it were good.   \n",
       "\n",
       "     date_new  year  day  Weekday hour  text_length    cuisine  \\\n",
       "0  2018-07-08  2018    8        6   08          240  Fast Food   \n",
       "1  2011-01-09  2011    9        6   22          557   American   \n",
       "2  2009-08-08  2009    8        5   03         1104   American   \n",
       "3  2009-06-07  2009    7        6   21          226   American   \n",
       "4  2014-12-19  2014   19        4   04          358    Chinese   \n",
       "\n",
       "                                                                                                                                                                                                                                                                                                                                                                                                                                                                                                                                                                                                                     text_new  \\\n",
       "0                                                                                                                                                                                                                                                                                                                                                                                                                                                                             love wetzel pretzels always mall download app rewards free pretzel love wetzel bites either salty cinnamon wetzel dog bites okay taste hot dogs   \n",
       "1                                                                                                                                                                                                                                                             recently discovered place wish discovered sooner hot dogs die perfectly snappy traditional chicago fixin poppy seed bun yum love fries served generous sized portions always come hot fresh crisp italian beef heck sandwich tender meat lots peppers delicious bread au jus girls huge fans sliders quite standard absolute favorite white castles still tasty   \n",
       "2  believe never knew place mere five minutes away complex shop frequently earlier today found reviews tempting prices ordered chicago dog two cheese sliders everything dog best chicago dog arizona lived years hot dog pinnacle meal cheese sliders mazing best anywhere slightly bigger expected wished ordered done took advantage take dined alone actual dining area lot bigger think looking outside lot chicago memorabilia pictures add atmosphere favorite piece poster hot dog rated nk ketchup unless age beautiful sum good place dine take best dogs arizona possibly best sliders anywhere highly recommended   \n",
       "3                                                                                                                                                                                                                                                                                                                                                                                                                                                                                  thing keeping place getting stars steam facking buns chrissakes slider meat cooked fresh buns steamed great meal cold slider bun sucks ass   \n",
       "4                                                                                                                                                                                                                                                                                                                                                                                                   tried different chinese delivery places admit huge fan chinese food place good food shrimp lo mein kung pow shrimp shrimp juicy unlike places tried good price huge portions order poo poo platter though none items good   \n",
       "\n",
       "   word_count  \n",
       "0          23  \n",
       "1          53  \n",
       "2          90  \n",
       "3          22  \n",
       "4          36  "
      ]
     },
     "execution_count": 45,
     "metadata": {},
     "output_type": "execute_result"
    }
   ],
   "source": [
    "rev.head()"
   ]
  },
  {
   "cell_type": "code",
   "execution_count": 46,
   "metadata": {},
   "outputs": [],
   "source": [
    "# Return frequency of values\n",
    "freq = pd.Series(\" \".join(rev['text_new']).split()).value_counts()[:30]"
   ]
  },
  {
   "cell_type": "code",
   "execution_count": 47,
   "metadata": {},
   "outputs": [
    {
     "data": {
      "text/plain": [
       "food          1073791\n",
       "good           827559\n",
       "place          798757\n",
       "great          697211\n",
       "service        561572\n",
       "time           446745\n",
       "back           445216\n",
       "go             382647\n",
       "really         343157\n",
       "ordered        311366\n",
       "order          307962\n",
       "restaurant     277694\n",
       "chicken        275890\n",
       "love           261382\n",
       "best           252220\n",
       "delicious      248254\n",
       "nice           240810\n",
       "always         238368\n",
       "try            237289\n",
       "menu           231983\n",
       "well           229611\n",
       "pizza          219248\n",
       "friendly       218818\n",
       "staff          211542\n",
       "little         207007\n",
       "first          204260\n",
       "amazing        203981\n",
       "definitely     192074\n",
       "come           189421\n",
       "never          188717\n",
       "dtype: int64"
      ]
     },
     "execution_count": 47,
     "metadata": {},
     "output_type": "execute_result"
    }
   ],
   "source": [
    "freq"
   ]
  },
  {
   "cell_type": "code",
   "execution_count": 48,
   "metadata": {},
   "outputs": [
    {
     "data": {
      "text/html": [
       "<div>\n",
       "<style scoped>\n",
       "    .dataframe tbody tr th:only-of-type {\n",
       "        vertical-align: middle;\n",
       "    }\n",
       "\n",
       "    .dataframe tbody tr th {\n",
       "        vertical-align: top;\n",
       "    }\n",
       "\n",
       "    .dataframe thead th {\n",
       "        text-align: right;\n",
       "    }\n",
       "</style>\n",
       "<table border=\"1\" class=\"dataframe\">\n",
       "  <thead>\n",
       "    <tr style=\"text-align: right;\">\n",
       "      <th></th>\n",
       "      <th>name</th>\n",
       "      <th>city</th>\n",
       "      <th>stars</th>\n",
       "      <th>review_count</th>\n",
       "      <th>is_open</th>\n",
       "      <th>attributes</th>\n",
       "      <th>categories</th>\n",
       "      <th>review_stars</th>\n",
       "      <th>text</th>\n",
       "      <th>date_new</th>\n",
       "      <th>year</th>\n",
       "      <th>day</th>\n",
       "      <th>Weekday</th>\n",
       "      <th>hour</th>\n",
       "      <th>text_length</th>\n",
       "      <th>cuisine</th>\n",
       "      <th>text_new</th>\n",
       "      <th>word_count</th>\n",
       "      <th>Target</th>\n",
       "    </tr>\n",
       "  </thead>\n",
       "  <tbody>\n",
       "    <tr>\n",
       "      <th>0</th>\n",
       "      <td>Wetzel's Pretzels</td>\n",
       "      <td>Phoenix</td>\n",
       "      <td>4.0</td>\n",
       "      <td>10</td>\n",
       "      <td>1</td>\n",
       "      <td>{'GoodForKids': 'True', 'RestaurantsTakeOut': 'True', 'RestaurantsPriceRange2': '1', 'BusinessAcceptsCreditCards': 'True', 'OutdoorSeating': 'False', 'BikeParking': 'True', 'RestaurantsAttire': \"u'casual'\", 'RestaurantsReservations': 'False', 'Ambience': \"{'romantic': False, 'intimate': False, 'touristy': False, 'hipster': False, 'divey': False, 'classy': False, 'trendy': False, 'upscale': False, 'casual': False}\", 'RestaurantsGoodForGroups': 'True', 'Alcohol': \"u'none'\", 'RestaurantsDelivery': 'False', 'HasTV': 'False', 'BusinessParking': \"{'garage': False, 'street': False, 'validated': False, 'lot': True, 'valet': False}\"}</td>\n",
       "      <td>Food, Pretzels, Bakeries, Fast Food, Restaurants</td>\n",
       "      <td>5</td>\n",
       "      <td>Love Wetzel's pretzels! I always get them when I'm at the mall! \\n\\nIf you download their app you get rewards for a free pretzel. \\n\\nI love the Wetzel's bites either salty or cinnamon. The Wetzel's dog bites are okay, they taste like hot dogs.</td>\n",
       "      <td>2018-07-08</td>\n",
       "      <td>2018</td>\n",
       "      <td>8</td>\n",
       "      <td>6</td>\n",
       "      <td>08</td>\n",
       "      <td>240</td>\n",
       "      <td>Fast Food</td>\n",
       "      <td>love wetzel pretzels always mall download app rewards free pretzel love wetzel bites either salty cinnamon wetzel dog bites okay taste hot dogs</td>\n",
       "      <td>23</td>\n",
       "      <td>1</td>\n",
       "    </tr>\n",
       "  </tbody>\n",
       "</table>\n",
       "</div>"
      ],
      "text/plain": [
       "                name     city  stars  review_count  is_open  \\\n",
       "0  Wetzel's Pretzels  Phoenix    4.0            10        1   \n",
       "\n",
       "                                                                                                                                                                                                                                                                                                                                                                                                                                                                                                                                                                                                                                                 attributes  \\\n",
       "0  {'GoodForKids': 'True', 'RestaurantsTakeOut': 'True', 'RestaurantsPriceRange2': '1', 'BusinessAcceptsCreditCards': 'True', 'OutdoorSeating': 'False', 'BikeParking': 'True', 'RestaurantsAttire': \"u'casual'\", 'RestaurantsReservations': 'False', 'Ambience': \"{'romantic': False, 'intimate': False, 'touristy': False, 'hipster': False, 'divey': False, 'classy': False, 'trendy': False, 'upscale': False, 'casual': False}\", 'RestaurantsGoodForGroups': 'True', 'Alcohol': \"u'none'\", 'RestaurantsDelivery': 'False', 'HasTV': 'False', 'BusinessParking': \"{'garage': False, 'street': False, 'validated': False, 'lot': True, 'valet': False}\"}   \n",
       "\n",
       "                                         categories  review_stars  \\\n",
       "0  Food, Pretzels, Bakeries, Fast Food, Restaurants             5   \n",
       "\n",
       "                                                                                                                                                                                                                                                   text  \\\n",
       "0  Love Wetzel's pretzels! I always get them when I'm at the mall! \\n\\nIf you download their app you get rewards for a free pretzel. \\n\\nI love the Wetzel's bites either salty or cinnamon. The Wetzel's dog bites are okay, they taste like hot dogs.   \n",
       "\n",
       "     date_new  year  day  Weekday hour  text_length    cuisine  \\\n",
       "0  2018-07-08  2018    8        6   08          240  Fast Food   \n",
       "\n",
       "                                                                                                                                          text_new  \\\n",
       "0  love wetzel pretzels always mall download app rewards free pretzel love wetzel bites either salty cinnamon wetzel dog bites okay taste hot dogs   \n",
       "\n",
       "   word_count  Target  \n",
       "0          23       1  "
      ]
     },
     "execution_count": 48,
     "metadata": {},
     "output_type": "execute_result"
    }
   ],
   "source": [
    "# Create new column \"Target\" that stored 0's or 1's. 0 being Negative, 1 being Positive\n",
    "rev[\"Target\"] = np.where(rev[\"review_stars\"] > 3, 1, 0)\n",
    "rev.head(1)"
   ]
  },
  {
   "cell_type": "code",
   "execution_count": 49,
   "metadata": {},
   "outputs": [],
   "source": [
    "# Picking the only text and target column\n",
    "rev_final = rev[['text_new','Target']]"
   ]
  },
  {
   "cell_type": "code",
   "execution_count": 16,
   "metadata": {},
   "outputs": [
    {
     "data": {
      "text/html": [
       "<div>\n",
       "<style scoped>\n",
       "    .dataframe tbody tr th:only-of-type {\n",
       "        vertical-align: middle;\n",
       "    }\n",
       "\n",
       "    .dataframe tbody tr th {\n",
       "        vertical-align: top;\n",
       "    }\n",
       "\n",
       "    .dataframe thead th {\n",
       "        text-align: right;\n",
       "    }\n",
       "</style>\n",
       "<table border=\"1\" class=\"dataframe\">\n",
       "  <thead>\n",
       "    <tr style=\"text-align: right;\">\n",
       "      <th></th>\n",
       "      <th>text_new</th>\n",
       "      <th>Target</th>\n",
       "    </tr>\n",
       "  </thead>\n",
       "  <tbody>\n",
       "    <tr>\n",
       "      <th>0</th>\n",
       "      <td>love wetzel s pretzels  i always get them when i m at the mall  if you download their app you get rewards for a free pretzel  i love the wetzel s bites either salty or cinnamon  the wetzel s dog bites are okay  they taste like hot dogs</td>\n",
       "      <td>1</td>\n",
       "    </tr>\n",
       "    <tr>\n",
       "      <th>1</th>\n",
       "      <td>we just recently discovered this place and i just wish we have discovered it sooner  the hot dogs are to die for  they are perfectly snappy with all the traditional chicago fixin s on poppy seed bun  yum  i love the fries which are served in generous sized portions and always come out so hot  fresh  and crisp  the italian beef is a heck of a sandwich with tender meat  lots of peppers  delicious bread  and au jus  my girls and i are huge fans of their sliders  not quite up to the standard of my absolute favorite white castles but still very tasty</td>\n",
       "      <td>1</td>\n",
       "    </tr>\n",
       "    <tr>\n",
       "      <th>2</th>\n",
       "      <td>i can t believe i never knew about a place that is a mere five minutes away from me  in a complex that i shop at frequently  until earlier today  i found all the reviews from here very tempting  and so too were the prices  i ordered a chicago dog and two cheese sliders  both with everything on them  the dog was the best chicago dog i ve had in arizona  and i ve lived here for    years  however  the hot dog was not the pinnacle of my meal  the cheese sliders were a mazing  the best i ve ever had   anywhere  they were slightly bigger than i expected  but i wished i had ordered more when i was done with them  i took advantage of their take out  since i dined alone  but the actual dining area is a lot bigger than one would think by looking at it from the outside  lot s of chicago memorabil...</td>\n",
       "      <td>1</td>\n",
       "    </tr>\n",
       "    <tr>\n",
       "      <th>3</th>\n",
       "      <td>the one thing keeping this place from getting   stars  steam the facking buns for chrissakes  if the slider meat would have been cooked fresh and buns steamed would have been a great meal  but a cold slider bun sucks ass</td>\n",
       "      <td>0</td>\n",
       "    </tr>\n",
       "    <tr>\n",
       "      <th>4</th>\n",
       "      <td>we ve tried a few different chinese delivery places  i ll admit i m not a huge fan of chinese food  but this place had some good food  i like the shrimp lo mein and kung pow shrimp  the shrimp was juicy  unlike some other places we tried  it is also a good price with huge portions  don t order the poo poo platter though  none of the items in it were good</td>\n",
       "      <td>1</td>\n",
       "    </tr>\n",
       "  </tbody>\n",
       "</table>\n",
       "</div>"
      ],
      "text/plain": [
       "                                                                                                                                                                                                                                                                                                                                                                                                                                                                                                                                                                                                                                                                                                                                                                                                                          text_new  \\\n",
       "0                                                                                                                                                                                                                                                                                                                                                                                                                                                                                                                                                                                     love wetzel s pretzels  i always get them when i m at the mall  if you download their app you get rewards for a free pretzel  i love the wetzel s bites either salty or cinnamon  the wetzel s dog bites are okay  they taste like hot dogs    \n",
       "1                                                                                                                                                                                                                                                         we just recently discovered this place and i just wish we have discovered it sooner  the hot dogs are to die for  they are perfectly snappy with all the traditional chicago fixin s on poppy seed bun  yum  i love the fries which are served in generous sized portions and always come out so hot  fresh  and crisp  the italian beef is a heck of a sandwich with tender meat  lots of peppers  delicious bread  and au jus  my girls and i are huge fans of their sliders  not quite up to the standard of my absolute favorite white castles but still very tasty    \n",
       "2  i can t believe i never knew about a place that is a mere five minutes away from me  in a complex that i shop at frequently  until earlier today  i found all the reviews from here very tempting  and so too were the prices  i ordered a chicago dog and two cheese sliders  both with everything on them  the dog was the best chicago dog i ve had in arizona  and i ve lived here for    years  however  the hot dog was not the pinnacle of my meal  the cheese sliders were a mazing  the best i ve ever had   anywhere  they were slightly bigger than i expected  but i wished i had ordered more when i was done with them  i took advantage of their take out  since i dined alone  but the actual dining area is a lot bigger than one would think by looking at it from the outside  lot s of chicago memorabil...   \n",
       "3                                                                                                                                                                                                                                                                                                                                                                                                                                                                                                                                                                                                  the one thing keeping this place from getting   stars  steam the facking buns for chrissakes  if the slider meat would have been cooked fresh and buns steamed would have been a great meal  but a cold slider bun sucks ass      \n",
       "4                                                                                                                                                                                                                                                                                                                                                                                                                                                            we ve tried a few different chinese delivery places  i ll admit i m not a huge fan of chinese food  but this place had some good food  i like the shrimp lo mein and kung pow shrimp  the shrimp was juicy  unlike some other places we tried  it is also a good price with huge portions  don t order the poo poo platter though  none of the items in it were good    \n",
       "\n",
       "   Target  \n",
       "0       1  \n",
       "1       1  \n",
       "2       1  \n",
       "3       0  \n",
       "4       1  "
      ]
     },
     "execution_count": 16,
     "metadata": {},
     "output_type": "execute_result"
    }
   ],
   "source": [
    "rev_final.head(5)"
   ]
  },
  {
   "cell_type": "code",
   "execution_count": 50,
   "metadata": {},
   "outputs": [],
   "source": [
    "rev_final.to_csv('Review_final.csv',index=False)"
   ]
  }
 ],
 "metadata": {
  "kernelspec": {
   "display_name": "Python 3",
   "language": "python",
   "name": "python3"
  },
  "language_info": {
   "codemirror_mode": {
    "name": "ipython",
    "version": 3
   },
   "file_extension": ".py",
   "mimetype": "text/x-python",
   "name": "python",
   "nbconvert_exporter": "python",
   "pygments_lexer": "ipython3",
   "version": "3.7.6"
  }
 },
 "nbformat": 4,
 "nbformat_minor": 4
}
